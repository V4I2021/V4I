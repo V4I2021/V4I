{
 "cells": [
  {
   "cell_type": "code",
   "execution_count": 61,
   "metadata": {
    "collapsed": true
   },
   "outputs": [],
   "source": [
    "import pandas as pd\n",
    "import numpy as np\n",
    "import itertools"
   ]
  },
  {
   "cell_type": "code",
   "execution_count": 62,
   "outputs": [],
   "source": [
    "file_list = ['carSales1', 'carSales2', 'Census', 'Emission', 'NBA', 'COVID-19']\n",
    "time_list = ['Year', 'Year', 'Birthday', 'Year', 'year', 'date']\n",
    "time_formatting = [True, False, True, False, False, False]\n",
    "measure_list = ['Sales', 'Price', 'Count of persons', 'CO2 (kt)']\n",
    "feature_list = [['Year', 'Brand', 'Category'],\n",
    "                ['Year', 'Brand', 'Body', 'Engine Type', 'Model', 'Registration'],\n",
    "                ['Birthday', 'Age Segment', 'Marital Status', 'Sex', 'Age Group'],\n",
    "                ['Year', 'State', 'Producer Type', 'Energy Source'],\n",
    "                ['name','year','team_name','age','lg_name','pos_name'],\n",
    "                ['date','county','state']]\n",
    "file_index = 3\n",
    "root = 'C:\\\\Users\\\\52497\\\\Dropbox\\\\VIS\\\\Insight\\\\'\n",
    "raw_data = root + \"Data\\\\\" + file_list[file_index] + \".csv\"\n",
    "res_data = root + \"res\\\\insights_\" + file_list[file_index] + \".csv\""
   ],
   "metadata": {
    "collapsed": false,
    "pycharm": {
     "name": "#%%\n"
    }
   }
  },
  {
   "cell_type": "code",
   "execution_count": 63,
   "outputs": [],
   "source": [
    "# Record file processing\n",
    "record = pd.read_csv(raw_data)\n",
    "# record[time_list[file_index]] = pd.to_datetime(record[time_list[file_index]]).dt.date\n",
    "if time_formatting[file_index]:\n",
    "    record[time_list[file_index]] = record[time_list[file_index]].apply(lambda year_string: year_string.split('/')[0])"
   ],
   "metadata": {
    "collapsed": false,
    "pycharm": {
     "name": "#%%\n"
    }
   }
  },
  {
   "cell_type": "code",
   "execution_count": 64,
   "outputs": [
    {
     "data": {
      "text/plain": "       Year State             Producer Type Energy Source  CO2 (kt)  SO2 kt  \\\n0      1990    AK          Commercial Cogen          Coal   821.929  13.191   \n1      1991    AK          Commercial Cogen          Coal   848.745   8.359   \n2      1992    AK          Commercial Cogen          Coal   860.878   8.469   \n3      1993    AK          Commercial Cogen          Coal   858.244   8.393   \n4      1994    AK          Commercial Cogen          Coal   866.661   8.880   \n...     ...   ...                       ...           ...       ...     ...   \n41151  2014    WY  Utility Sector Non-Cogen   Natural Gas    27.760   0.000   \n41152  2015    WY  Utility Sector Non-Cogen   Natural Gas     0.395   0.000   \n41153  2005    WY  Utility Sector Non-Cogen     Petroleum     0.000   0.002   \n41154  2006    WY  Utility Sector Non-Cogen     Petroleum     0.317   0.002   \n41155  2007    WY  Utility Sector Non-Cogen     Petroleum     0.275   0.002   \n\n       NOx kt    cid  \n0       3.009      0  \n1       3.146      1  \n2       3.195      2  \n3       3.208      3  \n4       3.238      4  \n...       ...    ...  \n41151   0.056  41151  \n41152   0.000  41152  \n41153   0.023  41153  \n41154   0.027  41154  \n41155   0.025  41155  \n\n[41156 rows x 8 columns]",
      "text/html": "<div>\n<style scoped>\n    .dataframe tbody tr th:only-of-type {\n        vertical-align: middle;\n    }\n\n    .dataframe tbody tr th {\n        vertical-align: top;\n    }\n\n    .dataframe thead th {\n        text-align: right;\n    }\n</style>\n<table border=\"1\" class=\"dataframe\">\n  <thead>\n    <tr style=\"text-align: right;\">\n      <th></th>\n      <th>Year</th>\n      <th>State</th>\n      <th>Producer Type</th>\n      <th>Energy Source</th>\n      <th>CO2 (kt)</th>\n      <th>SO2 kt</th>\n      <th>NOx kt</th>\n      <th>cid</th>\n    </tr>\n  </thead>\n  <tbody>\n    <tr>\n      <th>0</th>\n      <td>1990</td>\n      <td>AK</td>\n      <td>Commercial Cogen</td>\n      <td>Coal</td>\n      <td>821.929</td>\n      <td>13.191</td>\n      <td>3.009</td>\n      <td>0</td>\n    </tr>\n    <tr>\n      <th>1</th>\n      <td>1991</td>\n      <td>AK</td>\n      <td>Commercial Cogen</td>\n      <td>Coal</td>\n      <td>848.745</td>\n      <td>8.359</td>\n      <td>3.146</td>\n      <td>1</td>\n    </tr>\n    <tr>\n      <th>2</th>\n      <td>1992</td>\n      <td>AK</td>\n      <td>Commercial Cogen</td>\n      <td>Coal</td>\n      <td>860.878</td>\n      <td>8.469</td>\n      <td>3.195</td>\n      <td>2</td>\n    </tr>\n    <tr>\n      <th>3</th>\n      <td>1993</td>\n      <td>AK</td>\n      <td>Commercial Cogen</td>\n      <td>Coal</td>\n      <td>858.244</td>\n      <td>8.393</td>\n      <td>3.208</td>\n      <td>3</td>\n    </tr>\n    <tr>\n      <th>4</th>\n      <td>1994</td>\n      <td>AK</td>\n      <td>Commercial Cogen</td>\n      <td>Coal</td>\n      <td>866.661</td>\n      <td>8.880</td>\n      <td>3.238</td>\n      <td>4</td>\n    </tr>\n    <tr>\n      <th>...</th>\n      <td>...</td>\n      <td>...</td>\n      <td>...</td>\n      <td>...</td>\n      <td>...</td>\n      <td>...</td>\n      <td>...</td>\n      <td>...</td>\n    </tr>\n    <tr>\n      <th>41151</th>\n      <td>2014</td>\n      <td>WY</td>\n      <td>Utility Sector Non-Cogen</td>\n      <td>Natural Gas</td>\n      <td>27.760</td>\n      <td>0.000</td>\n      <td>0.056</td>\n      <td>41151</td>\n    </tr>\n    <tr>\n      <th>41152</th>\n      <td>2015</td>\n      <td>WY</td>\n      <td>Utility Sector Non-Cogen</td>\n      <td>Natural Gas</td>\n      <td>0.395</td>\n      <td>0.000</td>\n      <td>0.000</td>\n      <td>41152</td>\n    </tr>\n    <tr>\n      <th>41153</th>\n      <td>2005</td>\n      <td>WY</td>\n      <td>Utility Sector Non-Cogen</td>\n      <td>Petroleum</td>\n      <td>0.000</td>\n      <td>0.002</td>\n      <td>0.023</td>\n      <td>41153</td>\n    </tr>\n    <tr>\n      <th>41154</th>\n      <td>2006</td>\n      <td>WY</td>\n      <td>Utility Sector Non-Cogen</td>\n      <td>Petroleum</td>\n      <td>0.317</td>\n      <td>0.002</td>\n      <td>0.027</td>\n      <td>41154</td>\n    </tr>\n    <tr>\n      <th>41155</th>\n      <td>2007</td>\n      <td>WY</td>\n      <td>Utility Sector Non-Cogen</td>\n      <td>Petroleum</td>\n      <td>0.275</td>\n      <td>0.002</td>\n      <td>0.025</td>\n      <td>41155</td>\n    </tr>\n  </tbody>\n</table>\n<p>41156 rows × 8 columns</p>\n</div>"
     },
     "execution_count": 64,
     "metadata": {},
     "output_type": "execute_result"
    }
   ],
   "source": [
    "record['cid'] = record.index\n",
    "record"
   ],
   "metadata": {
    "collapsed": false,
    "pycharm": {
     "name": "#%%\n"
    }
   }
  },
  {
   "cell_type": "code",
   "execution_count": 65,
   "outputs": [
    {
     "data": {
      "text/plain": "       Year State             Producer Type Energy Source    cid\n0      1990    AK          Commercial Cogen          Coal      0\n1      1991    AK          Commercial Cogen          Coal      1\n2      1992    AK          Commercial Cogen          Coal      2\n3      1993    AK          Commercial Cogen          Coal      3\n4      1994    AK          Commercial Cogen          Coal      4\n...     ...   ...                       ...           ...    ...\n41151  2014    WY  Utility Sector Non-Cogen   Natural Gas  41151\n41152  2015    WY  Utility Sector Non-Cogen   Natural Gas  41152\n41153  2005    WY  Utility Sector Non-Cogen     Petroleum  41153\n41154  2006    WY  Utility Sector Non-Cogen     Petroleum  41154\n41155  2007    WY  Utility Sector Non-Cogen     Petroleum  41155\n\n[41156 rows x 5 columns]",
      "text/html": "<div>\n<style scoped>\n    .dataframe tbody tr th:only-of-type {\n        vertical-align: middle;\n    }\n\n    .dataframe tbody tr th {\n        vertical-align: top;\n    }\n\n    .dataframe thead th {\n        text-align: right;\n    }\n</style>\n<table border=\"1\" class=\"dataframe\">\n  <thead>\n    <tr style=\"text-align: right;\">\n      <th></th>\n      <th>Year</th>\n      <th>State</th>\n      <th>Producer Type</th>\n      <th>Energy Source</th>\n      <th>cid</th>\n    </tr>\n  </thead>\n  <tbody>\n    <tr>\n      <th>0</th>\n      <td>1990</td>\n      <td>AK</td>\n      <td>Commercial Cogen</td>\n      <td>Coal</td>\n      <td>0</td>\n    </tr>\n    <tr>\n      <th>1</th>\n      <td>1991</td>\n      <td>AK</td>\n      <td>Commercial Cogen</td>\n      <td>Coal</td>\n      <td>1</td>\n    </tr>\n    <tr>\n      <th>2</th>\n      <td>1992</td>\n      <td>AK</td>\n      <td>Commercial Cogen</td>\n      <td>Coal</td>\n      <td>2</td>\n    </tr>\n    <tr>\n      <th>3</th>\n      <td>1993</td>\n      <td>AK</td>\n      <td>Commercial Cogen</td>\n      <td>Coal</td>\n      <td>3</td>\n    </tr>\n    <tr>\n      <th>4</th>\n      <td>1994</td>\n      <td>AK</td>\n      <td>Commercial Cogen</td>\n      <td>Coal</td>\n      <td>4</td>\n    </tr>\n    <tr>\n      <th>...</th>\n      <td>...</td>\n      <td>...</td>\n      <td>...</td>\n      <td>...</td>\n      <td>...</td>\n    </tr>\n    <tr>\n      <th>41151</th>\n      <td>2014</td>\n      <td>WY</td>\n      <td>Utility Sector Non-Cogen</td>\n      <td>Natural Gas</td>\n      <td>41151</td>\n    </tr>\n    <tr>\n      <th>41152</th>\n      <td>2015</td>\n      <td>WY</td>\n      <td>Utility Sector Non-Cogen</td>\n      <td>Natural Gas</td>\n      <td>41152</td>\n    </tr>\n    <tr>\n      <th>41153</th>\n      <td>2005</td>\n      <td>WY</td>\n      <td>Utility Sector Non-Cogen</td>\n      <td>Petroleum</td>\n      <td>41153</td>\n    </tr>\n    <tr>\n      <th>41154</th>\n      <td>2006</td>\n      <td>WY</td>\n      <td>Utility Sector Non-Cogen</td>\n      <td>Petroleum</td>\n      <td>41154</td>\n    </tr>\n    <tr>\n      <th>41155</th>\n      <td>2007</td>\n      <td>WY</td>\n      <td>Utility Sector Non-Cogen</td>\n      <td>Petroleum</td>\n      <td>41155</td>\n    </tr>\n  </tbody>\n</table>\n<p>41156 rows × 5 columns</p>\n</div>"
     },
     "execution_count": 65,
     "metadata": {},
     "output_type": "execute_result"
    }
   ],
   "source": [
    "subspace_df = record[feature_list[file_index] + ['cid']].drop_duplicates()\n",
    "subspace_df"
   ],
   "metadata": {
    "collapsed": false,
    "pycharm": {
     "name": "#%%\n"
    }
   }
  },
  {
   "cell_type": "code",
   "execution_count": 66,
   "outputs": [
    {
     "data": {
      "text/plain": "        Year State             Producer Type Energy Source    cid\n0          *     *                         *             *   None\n8       1990     *                         *             *   None\n9       1991     *                         *             *   None\n10      1992     *                         *             *   None\n11      1993     *                         *             *   None\n...      ...   ...                       ...           ...    ...\n102559  2014    WY  Utility Sector Non-Cogen   Natural Gas  41151\n102560  2015    WY  Utility Sector Non-Cogen   Natural Gas  41152\n102561  2005    WY  Utility Sector Non-Cogen     Petroleum  41153\n102562  2006    WY  Utility Sector Non-Cogen     Petroleum  41154\n102563  2007    WY  Utility Sector Non-Cogen     Petroleum  41155\n\n[59871 rows x 5 columns]",
      "text/html": "<div>\n<style scoped>\n    .dataframe tbody tr th:only-of-type {\n        vertical-align: middle;\n    }\n\n    .dataframe tbody tr th {\n        vertical-align: top;\n    }\n\n    .dataframe thead th {\n        text-align: right;\n    }\n</style>\n<table border=\"1\" class=\"dataframe\">\n  <thead>\n    <tr style=\"text-align: right;\">\n      <th></th>\n      <th>Year</th>\n      <th>State</th>\n      <th>Producer Type</th>\n      <th>Energy Source</th>\n      <th>cid</th>\n    </tr>\n  </thead>\n  <tbody>\n    <tr>\n      <th>0</th>\n      <td>*</td>\n      <td>*</td>\n      <td>*</td>\n      <td>*</td>\n      <td>None</td>\n    </tr>\n    <tr>\n      <th>8</th>\n      <td>1990</td>\n      <td>*</td>\n      <td>*</td>\n      <td>*</td>\n      <td>None</td>\n    </tr>\n    <tr>\n      <th>9</th>\n      <td>1991</td>\n      <td>*</td>\n      <td>*</td>\n      <td>*</td>\n      <td>None</td>\n    </tr>\n    <tr>\n      <th>10</th>\n      <td>1992</td>\n      <td>*</td>\n      <td>*</td>\n      <td>*</td>\n      <td>None</td>\n    </tr>\n    <tr>\n      <th>11</th>\n      <td>1993</td>\n      <td>*</td>\n      <td>*</td>\n      <td>*</td>\n      <td>None</td>\n    </tr>\n    <tr>\n      <th>...</th>\n      <td>...</td>\n      <td>...</td>\n      <td>...</td>\n      <td>...</td>\n      <td>...</td>\n    </tr>\n    <tr>\n      <th>102559</th>\n      <td>2014</td>\n      <td>WY</td>\n      <td>Utility Sector Non-Cogen</td>\n      <td>Natural Gas</td>\n      <td>41151</td>\n    </tr>\n    <tr>\n      <th>102560</th>\n      <td>2015</td>\n      <td>WY</td>\n      <td>Utility Sector Non-Cogen</td>\n      <td>Natural Gas</td>\n      <td>41152</td>\n    </tr>\n    <tr>\n      <th>102561</th>\n      <td>2005</td>\n      <td>WY</td>\n      <td>Utility Sector Non-Cogen</td>\n      <td>Petroleum</td>\n      <td>41153</td>\n    </tr>\n    <tr>\n      <th>102562</th>\n      <td>2006</td>\n      <td>WY</td>\n      <td>Utility Sector Non-Cogen</td>\n      <td>Petroleum</td>\n      <td>41154</td>\n    </tr>\n    <tr>\n      <th>102563</th>\n      <td>2007</td>\n      <td>WY</td>\n      <td>Utility Sector Non-Cogen</td>\n      <td>Petroleum</td>\n      <td>41155</td>\n    </tr>\n  </tbody>\n</table>\n<p>59871 rows × 5 columns</p>\n</div>"
     },
     "execution_count": 66,
     "metadata": {},
     "output_type": "execute_result"
    }
   ],
   "source": [
    "for feature in feature_list[file_index]:\n",
    "    temp_df = subspace_df.copy()\n",
    "    temp_df[feature] = \"*\"\n",
    "    temp_df['cid'] = None\n",
    "    subspace_df = pd.concat([temp_df, subspace_df], ignore_index=True).drop_duplicates()\n",
    "subspace_df"
   ],
   "metadata": {
    "collapsed": false,
    "pycharm": {
     "name": "#%%\n"
    }
   }
  },
  {
   "cell_type": "code",
   "execution_count": 67,
   "outputs": [
    {
     "data": {
      "text/plain": "       Year State             Producer Type Energy Source    cid\n0         *     *                         *             *   None\n1      1990     *                         *             *   None\n2      1991     *                         *             *   None\n3      1992     *                         *             *   None\n4      1993     *                         *             *   None\n...     ...   ...                       ...           ...    ...\n59866  2014    WY  Utility Sector Non-Cogen   Natural Gas  41151\n59867  2015    WY  Utility Sector Non-Cogen   Natural Gas  41152\n59868  2005    WY  Utility Sector Non-Cogen     Petroleum  41153\n59869  2006    WY  Utility Sector Non-Cogen     Petroleum  41154\n59870  2007    WY  Utility Sector Non-Cogen     Petroleum  41155\n\n[59871 rows x 5 columns]",
      "text/html": "<div>\n<style scoped>\n    .dataframe tbody tr th:only-of-type {\n        vertical-align: middle;\n    }\n\n    .dataframe tbody tr th {\n        vertical-align: top;\n    }\n\n    .dataframe thead th {\n        text-align: right;\n    }\n</style>\n<table border=\"1\" class=\"dataframe\">\n  <thead>\n    <tr style=\"text-align: right;\">\n      <th></th>\n      <th>Year</th>\n      <th>State</th>\n      <th>Producer Type</th>\n      <th>Energy Source</th>\n      <th>cid</th>\n    </tr>\n  </thead>\n  <tbody>\n    <tr>\n      <th>0</th>\n      <td>*</td>\n      <td>*</td>\n      <td>*</td>\n      <td>*</td>\n      <td>None</td>\n    </tr>\n    <tr>\n      <th>1</th>\n      <td>1990</td>\n      <td>*</td>\n      <td>*</td>\n      <td>*</td>\n      <td>None</td>\n    </tr>\n    <tr>\n      <th>2</th>\n      <td>1991</td>\n      <td>*</td>\n      <td>*</td>\n      <td>*</td>\n      <td>None</td>\n    </tr>\n    <tr>\n      <th>3</th>\n      <td>1992</td>\n      <td>*</td>\n      <td>*</td>\n      <td>*</td>\n      <td>None</td>\n    </tr>\n    <tr>\n      <th>4</th>\n      <td>1993</td>\n      <td>*</td>\n      <td>*</td>\n      <td>*</td>\n      <td>None</td>\n    </tr>\n    <tr>\n      <th>...</th>\n      <td>...</td>\n      <td>...</td>\n      <td>...</td>\n      <td>...</td>\n      <td>...</td>\n    </tr>\n    <tr>\n      <th>59866</th>\n      <td>2014</td>\n      <td>WY</td>\n      <td>Utility Sector Non-Cogen</td>\n      <td>Natural Gas</td>\n      <td>41151</td>\n    </tr>\n    <tr>\n      <th>59867</th>\n      <td>2015</td>\n      <td>WY</td>\n      <td>Utility Sector Non-Cogen</td>\n      <td>Natural Gas</td>\n      <td>41152</td>\n    </tr>\n    <tr>\n      <th>59868</th>\n      <td>2005</td>\n      <td>WY</td>\n      <td>Utility Sector Non-Cogen</td>\n      <td>Petroleum</td>\n      <td>41153</td>\n    </tr>\n    <tr>\n      <th>59869</th>\n      <td>2006</td>\n      <td>WY</td>\n      <td>Utility Sector Non-Cogen</td>\n      <td>Petroleum</td>\n      <td>41154</td>\n    </tr>\n    <tr>\n      <th>59870</th>\n      <td>2007</td>\n      <td>WY</td>\n      <td>Utility Sector Non-Cogen</td>\n      <td>Petroleum</td>\n      <td>41155</td>\n    </tr>\n  </tbody>\n</table>\n<p>59871 rows × 5 columns</p>\n</div>"
     },
     "execution_count": 67,
     "metadata": {},
     "output_type": "execute_result"
    }
   ],
   "source": [
    "subspace_df = subspace_df.reset_index(drop=True)\n",
    "subspace_df"
   ],
   "metadata": {
    "collapsed": false,
    "pycharm": {
     "name": "#%%\n"
    }
   }
  },
  {
   "cell_type": "code",
   "execution_count": 68,
   "outputs": [
    {
     "name": "stderr",
     "output_type": "stream",
     "text": [
      "100%|██████████| 59871/59871 [00:58<00:00, 1016.71it/s] \n"
     ]
    }
   ],
   "source": [
    "from tqdm import tqdm\n",
    "subspace_record_list = []\n",
    "for sub_index, sub_line in tqdm(subspace_df.iterrows(), total=subspace_df.shape[0]):\n",
    "    if sub_line['cid'] is not None :\n",
    "        subspace_record_list.append([sub_index, sub_line['cid']])\n",
    "    else:\n",
    "        filter = {i: sub_line[i] for i in feature_list[file_index] if sub_line[i] != '*'}\n",
    "        qry = ' and '.join([\"`{}` == '{}'\".format(k,v) for k,v in filter.items()])\n",
    "        if qry == '':\n",
    "            for i in record['cid'].tolist():\n",
    "                subspace_record_list.append([sub_index, i])\n",
    "        else:\n",
    "            for i in record.query(qry)['cid'].tolist():\n",
    "                subspace_record_list.append([sub_index, i])\n",
    "subspace_record_df = pd.DataFrame(subspace_record_list, columns=['sid', 'cid'])"
   ],
   "metadata": {
    "collapsed": false,
    "pycharm": {
     "name": "#%%\n"
    }
   }
  },
  {
   "cell_type": "code",
   "execution_count": 69,
   "outputs": [
    {
     "data": {
      "text/plain": "          sid    cid\n0           0      0\n1           0      1\n2           0      2\n3           0      3\n4           0      4\n...       ...    ...\n658491  59866  41151\n658492  59867  41152\n658493  59868  41153\n658494  59869  41154\n658495  59870  41155\n\n[658496 rows x 2 columns]",
      "text/html": "<div>\n<style scoped>\n    .dataframe tbody tr th:only-of-type {\n        vertical-align: middle;\n    }\n\n    .dataframe tbody tr th {\n        vertical-align: top;\n    }\n\n    .dataframe thead th {\n        text-align: right;\n    }\n</style>\n<table border=\"1\" class=\"dataframe\">\n  <thead>\n    <tr style=\"text-align: right;\">\n      <th></th>\n      <th>sid</th>\n      <th>cid</th>\n    </tr>\n  </thead>\n  <tbody>\n    <tr>\n      <th>0</th>\n      <td>0</td>\n      <td>0</td>\n    </tr>\n    <tr>\n      <th>1</th>\n      <td>0</td>\n      <td>1</td>\n    </tr>\n    <tr>\n      <th>2</th>\n      <td>0</td>\n      <td>2</td>\n    </tr>\n    <tr>\n      <th>3</th>\n      <td>0</td>\n      <td>3</td>\n    </tr>\n    <tr>\n      <th>4</th>\n      <td>0</td>\n      <td>4</td>\n    </tr>\n    <tr>\n      <th>...</th>\n      <td>...</td>\n      <td>...</td>\n    </tr>\n    <tr>\n      <th>658491</th>\n      <td>59866</td>\n      <td>41151</td>\n    </tr>\n    <tr>\n      <th>658492</th>\n      <td>59867</td>\n      <td>41152</td>\n    </tr>\n    <tr>\n      <th>658493</th>\n      <td>59868</td>\n      <td>41153</td>\n    </tr>\n    <tr>\n      <th>658494</th>\n      <td>59869</td>\n      <td>41154</td>\n    </tr>\n    <tr>\n      <th>658495</th>\n      <td>59870</td>\n      <td>41155</td>\n    </tr>\n  </tbody>\n</table>\n<p>658496 rows × 2 columns</p>\n</div>"
     },
     "execution_count": 69,
     "metadata": {},
     "output_type": "execute_result"
    }
   ],
   "source": [
    "subspace_record_df"
   ],
   "metadata": {
    "collapsed": false,
    "pycharm": {
     "name": "#%%\n"
    }
   }
  },
  {
   "cell_type": "code",
   "execution_count": 70,
   "outputs": [
    {
     "data": {
      "text/plain": "       Year State             Producer Type Energy Source    sid\n0         *     *                         *             *      0\n1      1990     *                         *             *      1\n2      1991     *                         *             *      2\n3      1992     *                         *             *      3\n4      1993     *                         *             *      4\n...     ...   ...                       ...           ...    ...\n59866  2014    WY  Utility Sector Non-Cogen   Natural Gas  59866\n59867  2015    WY  Utility Sector Non-Cogen   Natural Gas  59867\n59868  2005    WY  Utility Sector Non-Cogen     Petroleum  59868\n59869  2006    WY  Utility Sector Non-Cogen     Petroleum  59869\n59870  2007    WY  Utility Sector Non-Cogen     Petroleum  59870\n\n[59871 rows x 5 columns]",
      "text/html": "<div>\n<style scoped>\n    .dataframe tbody tr th:only-of-type {\n        vertical-align: middle;\n    }\n\n    .dataframe tbody tr th {\n        vertical-align: top;\n    }\n\n    .dataframe thead th {\n        text-align: right;\n    }\n</style>\n<table border=\"1\" class=\"dataframe\">\n  <thead>\n    <tr style=\"text-align: right;\">\n      <th></th>\n      <th>Year</th>\n      <th>State</th>\n      <th>Producer Type</th>\n      <th>Energy Source</th>\n      <th>sid</th>\n    </tr>\n  </thead>\n  <tbody>\n    <tr>\n      <th>0</th>\n      <td>*</td>\n      <td>*</td>\n      <td>*</td>\n      <td>*</td>\n      <td>0</td>\n    </tr>\n    <tr>\n      <th>1</th>\n      <td>1990</td>\n      <td>*</td>\n      <td>*</td>\n      <td>*</td>\n      <td>1</td>\n    </tr>\n    <tr>\n      <th>2</th>\n      <td>1991</td>\n      <td>*</td>\n      <td>*</td>\n      <td>*</td>\n      <td>2</td>\n    </tr>\n    <tr>\n      <th>3</th>\n      <td>1992</td>\n      <td>*</td>\n      <td>*</td>\n      <td>*</td>\n      <td>3</td>\n    </tr>\n    <tr>\n      <th>4</th>\n      <td>1993</td>\n      <td>*</td>\n      <td>*</td>\n      <td>*</td>\n      <td>4</td>\n    </tr>\n    <tr>\n      <th>...</th>\n      <td>...</td>\n      <td>...</td>\n      <td>...</td>\n      <td>...</td>\n      <td>...</td>\n    </tr>\n    <tr>\n      <th>59866</th>\n      <td>2014</td>\n      <td>WY</td>\n      <td>Utility Sector Non-Cogen</td>\n      <td>Natural Gas</td>\n      <td>59866</td>\n    </tr>\n    <tr>\n      <th>59867</th>\n      <td>2015</td>\n      <td>WY</td>\n      <td>Utility Sector Non-Cogen</td>\n      <td>Natural Gas</td>\n      <td>59867</td>\n    </tr>\n    <tr>\n      <th>59868</th>\n      <td>2005</td>\n      <td>WY</td>\n      <td>Utility Sector Non-Cogen</td>\n      <td>Petroleum</td>\n      <td>59868</td>\n    </tr>\n    <tr>\n      <th>59869</th>\n      <td>2006</td>\n      <td>WY</td>\n      <td>Utility Sector Non-Cogen</td>\n      <td>Petroleum</td>\n      <td>59869</td>\n    </tr>\n    <tr>\n      <th>59870</th>\n      <td>2007</td>\n      <td>WY</td>\n      <td>Utility Sector Non-Cogen</td>\n      <td>Petroleum</td>\n      <td>59870</td>\n    </tr>\n  </tbody>\n</table>\n<p>59871 rows × 5 columns</p>\n</div>"
     },
     "execution_count": 70,
     "metadata": {},
     "output_type": "execute_result"
    }
   ],
   "source": [
    "subspace_df['sid'] = subspace_df.index\n",
    "subspace_df.drop(['cid'], axis=1, inplace=True)\n",
    "subspace_df"
   ],
   "metadata": {
    "collapsed": false,
    "pycharm": {
     "name": "#%%\n"
    }
   }
  },
  {
   "cell_type": "code",
   "execution_count": 71,
   "outputs": [
    {
     "data": {
      "text/plain": "                Producer Type Energy Source  Year State breakdown  \\\n0                           *             *     *    MS      Year   \n1            Industrial Cogen         Other     *     *      Year   \n2                           *             *     *    IA      Year   \n3                           *             *     *    UT      Year   \n4                           *             *     *    CO      Year   \n..                        ...           ...   ...   ...       ...   \n694          Electric Utility          Coal     *     *      Year   \n695          Electric Utility             *     *     *     State   \n696      Industrial Non-Cogen             *     *     *      Year   \n697                         *             *  2014     *     State   \n698  Utility Sector Non-Cogen     Petroleum     *     *      Year   \n\n    breakdown_value          measure       sig    impact  \\\n0                -1         CO2 (kt)  0.561615  0.014724   \n1                -1         CO2 (kt)  0.300003  0.029060   \n2                -1         CO2 (kt)  0.494322  0.020945   \n3                -1         CO2 (kt)  0.565674  0.015551   \n4                -1         CO2 (kt)  0.521803  0.017251   \n..              ...              ...       ...       ...   \n694              -1  CO2 (kt);SO2 kt  0.650993  0.051414   \n695              -1  CO2 (kt);SO2 kt  0.680802  0.211148   \n696              -1  CO2 (kt);SO2 kt  0.560324  0.057732   \n697              -1  CO2 (kt);SO2 kt  0.724247  0.043590   \n698              -1  CO2 (kt);SO2 kt  0.849840  0.034163   \n\n                       insight insight_type     score  iid  \n0                        trend        shape  0.008269    0  \n1                        trend        shape  0.008718    1  \n2                        trend        shape  0.010353    2  \n3                        trend        shape  0.008797    3  \n4                        trend        shape  0.009002    4  \n..                         ...          ...       ...  ...  \n694  cross measure correlation     compound  0.033470  694  \n695  cross measure correlation     compound  0.143750  695  \n696  cross measure correlation     compound  0.032348  696  \n697  cross measure correlation     compound  0.031570  697  \n698  cross measure correlation     compound  0.029033  698  \n\n[699 rows x 13 columns]",
      "text/html": "<div>\n<style scoped>\n    .dataframe tbody tr th:only-of-type {\n        vertical-align: middle;\n    }\n\n    .dataframe tbody tr th {\n        vertical-align: top;\n    }\n\n    .dataframe thead th {\n        text-align: right;\n    }\n</style>\n<table border=\"1\" class=\"dataframe\">\n  <thead>\n    <tr style=\"text-align: right;\">\n      <th></th>\n      <th>Producer Type</th>\n      <th>Energy Source</th>\n      <th>Year</th>\n      <th>State</th>\n      <th>breakdown</th>\n      <th>breakdown_value</th>\n      <th>measure</th>\n      <th>sig</th>\n      <th>impact</th>\n      <th>insight</th>\n      <th>insight_type</th>\n      <th>score</th>\n      <th>iid</th>\n    </tr>\n  </thead>\n  <tbody>\n    <tr>\n      <th>0</th>\n      <td>*</td>\n      <td>*</td>\n      <td>*</td>\n      <td>MS</td>\n      <td>Year</td>\n      <td>-1</td>\n      <td>CO2 (kt)</td>\n      <td>0.561615</td>\n      <td>0.014724</td>\n      <td>trend</td>\n      <td>shape</td>\n      <td>0.008269</td>\n      <td>0</td>\n    </tr>\n    <tr>\n      <th>1</th>\n      <td>Industrial Cogen</td>\n      <td>Other</td>\n      <td>*</td>\n      <td>*</td>\n      <td>Year</td>\n      <td>-1</td>\n      <td>CO2 (kt)</td>\n      <td>0.300003</td>\n      <td>0.029060</td>\n      <td>trend</td>\n      <td>shape</td>\n      <td>0.008718</td>\n      <td>1</td>\n    </tr>\n    <tr>\n      <th>2</th>\n      <td>*</td>\n      <td>*</td>\n      <td>*</td>\n      <td>IA</td>\n      <td>Year</td>\n      <td>-1</td>\n      <td>CO2 (kt)</td>\n      <td>0.494322</td>\n      <td>0.020945</td>\n      <td>trend</td>\n      <td>shape</td>\n      <td>0.010353</td>\n      <td>2</td>\n    </tr>\n    <tr>\n      <th>3</th>\n      <td>*</td>\n      <td>*</td>\n      <td>*</td>\n      <td>UT</td>\n      <td>Year</td>\n      <td>-1</td>\n      <td>CO2 (kt)</td>\n      <td>0.565674</td>\n      <td>0.015551</td>\n      <td>trend</td>\n      <td>shape</td>\n      <td>0.008797</td>\n      <td>3</td>\n    </tr>\n    <tr>\n      <th>4</th>\n      <td>*</td>\n      <td>*</td>\n      <td>*</td>\n      <td>CO</td>\n      <td>Year</td>\n      <td>-1</td>\n      <td>CO2 (kt)</td>\n      <td>0.521803</td>\n      <td>0.017251</td>\n      <td>trend</td>\n      <td>shape</td>\n      <td>0.009002</td>\n      <td>4</td>\n    </tr>\n    <tr>\n      <th>...</th>\n      <td>...</td>\n      <td>...</td>\n      <td>...</td>\n      <td>...</td>\n      <td>...</td>\n      <td>...</td>\n      <td>...</td>\n      <td>...</td>\n      <td>...</td>\n      <td>...</td>\n      <td>...</td>\n      <td>...</td>\n      <td>...</td>\n    </tr>\n    <tr>\n      <th>694</th>\n      <td>Electric Utility</td>\n      <td>Coal</td>\n      <td>*</td>\n      <td>*</td>\n      <td>Year</td>\n      <td>-1</td>\n      <td>CO2 (kt);SO2 kt</td>\n      <td>0.650993</td>\n      <td>0.051414</td>\n      <td>cross measure correlation</td>\n      <td>compound</td>\n      <td>0.033470</td>\n      <td>694</td>\n    </tr>\n    <tr>\n      <th>695</th>\n      <td>Electric Utility</td>\n      <td>*</td>\n      <td>*</td>\n      <td>*</td>\n      <td>State</td>\n      <td>-1</td>\n      <td>CO2 (kt);SO2 kt</td>\n      <td>0.680802</td>\n      <td>0.211148</td>\n      <td>cross measure correlation</td>\n      <td>compound</td>\n      <td>0.143750</td>\n      <td>695</td>\n    </tr>\n    <tr>\n      <th>696</th>\n      <td>Industrial Non-Cogen</td>\n      <td>*</td>\n      <td>*</td>\n      <td>*</td>\n      <td>Year</td>\n      <td>-1</td>\n      <td>CO2 (kt);SO2 kt</td>\n      <td>0.560324</td>\n      <td>0.057732</td>\n      <td>cross measure correlation</td>\n      <td>compound</td>\n      <td>0.032348</td>\n      <td>696</td>\n    </tr>\n    <tr>\n      <th>697</th>\n      <td>*</td>\n      <td>*</td>\n      <td>2014</td>\n      <td>*</td>\n      <td>State</td>\n      <td>-1</td>\n      <td>CO2 (kt);SO2 kt</td>\n      <td>0.724247</td>\n      <td>0.043590</td>\n      <td>cross measure correlation</td>\n      <td>compound</td>\n      <td>0.031570</td>\n      <td>697</td>\n    </tr>\n    <tr>\n      <th>698</th>\n      <td>Utility Sector Non-Cogen</td>\n      <td>Petroleum</td>\n      <td>*</td>\n      <td>*</td>\n      <td>Year</td>\n      <td>-1</td>\n      <td>CO2 (kt);SO2 kt</td>\n      <td>0.849840</td>\n      <td>0.034163</td>\n      <td>cross measure correlation</td>\n      <td>compound</td>\n      <td>0.029033</td>\n      <td>698</td>\n    </tr>\n  </tbody>\n</table>\n<p>699 rows × 13 columns</p>\n</div>"
     },
     "execution_count": 71,
     "metadata": {},
     "output_type": "execute_result"
    }
   ],
   "source": [
    "insight_df = pd.read_csv(res_data)\n",
    "insight_df['iid'] = insight_df.index\n",
    "insight_df"
   ],
   "metadata": {
    "collapsed": false,
    "pycharm": {
     "name": "#%%\n"
    }
   }
  },
  {
   "cell_type": "code",
   "execution_count": 72,
   "outputs": [
    {
     "data": {
      "text/plain": "            Producer Type Energy Source Year State breakdown breakdown_value  \\\n0                       *             *    *    MS      Year              -1   \n1        Industrial Cogen         Other    *     *      Year              -1   \n2        Industrial Cogen         Other    *     *      Year            2003   \n3        Industrial Cogen         Other    *     *      Year            2006   \n4        Industrial Cogen         Other    *     *      Year              -1   \n..                    ...           ...  ...   ...       ...             ...   \n573  Industrial Non-Cogen   Natural Gas    *     *      Year            2013   \n574                     *             *    *    NH      Year              -1   \n575                     *             *    *    CT      Year              -1   \n576                     *             *    *    TN      Year              -1   \n577                     *             *    *    WV      Year              -1   \n\n      measure       sig    impact       insight insight_type     score  iid  \\\n0    CO2 (kt)  0.561615  0.014724         trend        shape  0.008269    0   \n1    CO2 (kt)  0.300003  0.029060         trend        shape  0.008718    1   \n2    CO2 (kt)  1.000000  0.029060  change point        shape  0.029060  122   \n3    CO2 (kt)  0.998364  0.029060       outlier        shape  0.029013  174   \n4      SO2 kt  0.454138  0.029060         trend        shape  0.013197  305   \n..        ...       ...       ...           ...          ...       ...  ...   \n573  CO2 (kt)  0.999455  0.021042       outlier        shape  0.021030  153   \n574    SO2 kt  0.668848  0.017349         trend        shape  0.011604  301   \n575    SO2 kt  0.682129  0.019681         trend        shape  0.013425  304   \n576    SO2 kt  0.952682  0.018175         trend        shape  0.017315  320   \n577    SO2 kt  0.931379  0.017203         trend        shape  0.016022  338   \n\n       sid  \n0       48  \n1    16212  \n2    16212  \n3    16212  \n4    16212  \n..     ...  \n573  16218  \n574     51  \n575     32  \n576     62  \n577     76  \n\n[578 rows x 14 columns]",
      "text/html": "<div>\n<style scoped>\n    .dataframe tbody tr th:only-of-type {\n        vertical-align: middle;\n    }\n\n    .dataframe tbody tr th {\n        vertical-align: top;\n    }\n\n    .dataframe thead th {\n        text-align: right;\n    }\n</style>\n<table border=\"1\" class=\"dataframe\">\n  <thead>\n    <tr style=\"text-align: right;\">\n      <th></th>\n      <th>Producer Type</th>\n      <th>Energy Source</th>\n      <th>Year</th>\n      <th>State</th>\n      <th>breakdown</th>\n      <th>breakdown_value</th>\n      <th>measure</th>\n      <th>sig</th>\n      <th>impact</th>\n      <th>insight</th>\n      <th>insight_type</th>\n      <th>score</th>\n      <th>iid</th>\n      <th>sid</th>\n    </tr>\n  </thead>\n  <tbody>\n    <tr>\n      <th>0</th>\n      <td>*</td>\n      <td>*</td>\n      <td>*</td>\n      <td>MS</td>\n      <td>Year</td>\n      <td>-1</td>\n      <td>CO2 (kt)</td>\n      <td>0.561615</td>\n      <td>0.014724</td>\n      <td>trend</td>\n      <td>shape</td>\n      <td>0.008269</td>\n      <td>0</td>\n      <td>48</td>\n    </tr>\n    <tr>\n      <th>1</th>\n      <td>Industrial Cogen</td>\n      <td>Other</td>\n      <td>*</td>\n      <td>*</td>\n      <td>Year</td>\n      <td>-1</td>\n      <td>CO2 (kt)</td>\n      <td>0.300003</td>\n      <td>0.029060</td>\n      <td>trend</td>\n      <td>shape</td>\n      <td>0.008718</td>\n      <td>1</td>\n      <td>16212</td>\n    </tr>\n    <tr>\n      <th>2</th>\n      <td>Industrial Cogen</td>\n      <td>Other</td>\n      <td>*</td>\n      <td>*</td>\n      <td>Year</td>\n      <td>2003</td>\n      <td>CO2 (kt)</td>\n      <td>1.000000</td>\n      <td>0.029060</td>\n      <td>change point</td>\n      <td>shape</td>\n      <td>0.029060</td>\n      <td>122</td>\n      <td>16212</td>\n    </tr>\n    <tr>\n      <th>3</th>\n      <td>Industrial Cogen</td>\n      <td>Other</td>\n      <td>*</td>\n      <td>*</td>\n      <td>Year</td>\n      <td>2006</td>\n      <td>CO2 (kt)</td>\n      <td>0.998364</td>\n      <td>0.029060</td>\n      <td>outlier</td>\n      <td>shape</td>\n      <td>0.029013</td>\n      <td>174</td>\n      <td>16212</td>\n    </tr>\n    <tr>\n      <th>4</th>\n      <td>Industrial Cogen</td>\n      <td>Other</td>\n      <td>*</td>\n      <td>*</td>\n      <td>Year</td>\n      <td>-1</td>\n      <td>SO2 kt</td>\n      <td>0.454138</td>\n      <td>0.029060</td>\n      <td>trend</td>\n      <td>shape</td>\n      <td>0.013197</td>\n      <td>305</td>\n      <td>16212</td>\n    </tr>\n    <tr>\n      <th>...</th>\n      <td>...</td>\n      <td>...</td>\n      <td>...</td>\n      <td>...</td>\n      <td>...</td>\n      <td>...</td>\n      <td>...</td>\n      <td>...</td>\n      <td>...</td>\n      <td>...</td>\n      <td>...</td>\n      <td>...</td>\n      <td>...</td>\n      <td>...</td>\n    </tr>\n    <tr>\n      <th>573</th>\n      <td>Industrial Non-Cogen</td>\n      <td>Natural Gas</td>\n      <td>*</td>\n      <td>*</td>\n      <td>Year</td>\n      <td>2013</td>\n      <td>CO2 (kt)</td>\n      <td>0.999455</td>\n      <td>0.021042</td>\n      <td>outlier</td>\n      <td>shape</td>\n      <td>0.021030</td>\n      <td>153</td>\n      <td>16218</td>\n    </tr>\n    <tr>\n      <th>574</th>\n      <td>*</td>\n      <td>*</td>\n      <td>*</td>\n      <td>NH</td>\n      <td>Year</td>\n      <td>-1</td>\n      <td>SO2 kt</td>\n      <td>0.668848</td>\n      <td>0.017349</td>\n      <td>trend</td>\n      <td>shape</td>\n      <td>0.011604</td>\n      <td>301</td>\n      <td>51</td>\n    </tr>\n    <tr>\n      <th>575</th>\n      <td>*</td>\n      <td>*</td>\n      <td>*</td>\n      <td>CT</td>\n      <td>Year</td>\n      <td>-1</td>\n      <td>SO2 kt</td>\n      <td>0.682129</td>\n      <td>0.019681</td>\n      <td>trend</td>\n      <td>shape</td>\n      <td>0.013425</td>\n      <td>304</td>\n      <td>32</td>\n    </tr>\n    <tr>\n      <th>576</th>\n      <td>*</td>\n      <td>*</td>\n      <td>*</td>\n      <td>TN</td>\n      <td>Year</td>\n      <td>-1</td>\n      <td>SO2 kt</td>\n      <td>0.952682</td>\n      <td>0.018175</td>\n      <td>trend</td>\n      <td>shape</td>\n      <td>0.017315</td>\n      <td>320</td>\n      <td>62</td>\n    </tr>\n    <tr>\n      <th>577</th>\n      <td>*</td>\n      <td>*</td>\n      <td>*</td>\n      <td>WV</td>\n      <td>Year</td>\n      <td>-1</td>\n      <td>SO2 kt</td>\n      <td>0.931379</td>\n      <td>0.017203</td>\n      <td>trend</td>\n      <td>shape</td>\n      <td>0.016022</td>\n      <td>338</td>\n      <td>76</td>\n    </tr>\n  </tbody>\n</table>\n<p>578 rows × 14 columns</p>\n</div>"
     },
     "execution_count": 72,
     "metadata": {},
     "output_type": "execute_result"
    }
   ],
   "source": [
    "insight_df = insight_df.merge(subspace_df, how='inner', on=feature_list[file_index])\n",
    "insight_df"
   ],
   "metadata": {
    "collapsed": false,
    "pycharm": {
     "name": "#%%\n"
    }
   }
  },
  {
   "cell_type": "code",
   "execution_count": 73,
   "outputs": [
    {
     "data": {
      "text/plain": "    breakdown breakdown_value   measure       sig    impact       insight  \\\n0        Year              -1  CO2 (kt)  0.561615  0.014724         trend   \n1        Year              -1  CO2 (kt)  0.300003  0.029060         trend   \n2        Year            2003  CO2 (kt)  1.000000  0.029060  change point   \n3        Year            2006  CO2 (kt)  0.998364  0.029060       outlier   \n4        Year              -1    SO2 kt  0.454138  0.029060         trend   \n..        ...             ...       ...       ...       ...           ...   \n573      Year            2013  CO2 (kt)  0.999455  0.021042       outlier   \n574      Year              -1    SO2 kt  0.668848  0.017349         trend   \n575      Year              -1    SO2 kt  0.682129  0.019681         trend   \n576      Year              -1    SO2 kt  0.952682  0.018175         trend   \n577      Year              -1    SO2 kt  0.931379  0.017203         trend   \n\n    insight_type     score  iid    sid  \n0          shape  0.008269    0     48  \n1          shape  0.008718    1  16212  \n2          shape  0.029060  122  16212  \n3          shape  0.029013  174  16212  \n4          shape  0.013197  305  16212  \n..           ...       ...  ...    ...  \n573        shape  0.021030  153  16218  \n574        shape  0.011604  301     51  \n575        shape  0.013425  304     32  \n576        shape  0.017315  320     62  \n577        shape  0.016022  338     76  \n\n[578 rows x 10 columns]",
      "text/html": "<div>\n<style scoped>\n    .dataframe tbody tr th:only-of-type {\n        vertical-align: middle;\n    }\n\n    .dataframe tbody tr th {\n        vertical-align: top;\n    }\n\n    .dataframe thead th {\n        text-align: right;\n    }\n</style>\n<table border=\"1\" class=\"dataframe\">\n  <thead>\n    <tr style=\"text-align: right;\">\n      <th></th>\n      <th>breakdown</th>\n      <th>breakdown_value</th>\n      <th>measure</th>\n      <th>sig</th>\n      <th>impact</th>\n      <th>insight</th>\n      <th>insight_type</th>\n      <th>score</th>\n      <th>iid</th>\n      <th>sid</th>\n    </tr>\n  </thead>\n  <tbody>\n    <tr>\n      <th>0</th>\n      <td>Year</td>\n      <td>-1</td>\n      <td>CO2 (kt)</td>\n      <td>0.561615</td>\n      <td>0.014724</td>\n      <td>trend</td>\n      <td>shape</td>\n      <td>0.008269</td>\n      <td>0</td>\n      <td>48</td>\n    </tr>\n    <tr>\n      <th>1</th>\n      <td>Year</td>\n      <td>-1</td>\n      <td>CO2 (kt)</td>\n      <td>0.300003</td>\n      <td>0.029060</td>\n      <td>trend</td>\n      <td>shape</td>\n      <td>0.008718</td>\n      <td>1</td>\n      <td>16212</td>\n    </tr>\n    <tr>\n      <th>2</th>\n      <td>Year</td>\n      <td>2003</td>\n      <td>CO2 (kt)</td>\n      <td>1.000000</td>\n      <td>0.029060</td>\n      <td>change point</td>\n      <td>shape</td>\n      <td>0.029060</td>\n      <td>122</td>\n      <td>16212</td>\n    </tr>\n    <tr>\n      <th>3</th>\n      <td>Year</td>\n      <td>2006</td>\n      <td>CO2 (kt)</td>\n      <td>0.998364</td>\n      <td>0.029060</td>\n      <td>outlier</td>\n      <td>shape</td>\n      <td>0.029013</td>\n      <td>174</td>\n      <td>16212</td>\n    </tr>\n    <tr>\n      <th>4</th>\n      <td>Year</td>\n      <td>-1</td>\n      <td>SO2 kt</td>\n      <td>0.454138</td>\n      <td>0.029060</td>\n      <td>trend</td>\n      <td>shape</td>\n      <td>0.013197</td>\n      <td>305</td>\n      <td>16212</td>\n    </tr>\n    <tr>\n      <th>...</th>\n      <td>...</td>\n      <td>...</td>\n      <td>...</td>\n      <td>...</td>\n      <td>...</td>\n      <td>...</td>\n      <td>...</td>\n      <td>...</td>\n      <td>...</td>\n      <td>...</td>\n    </tr>\n    <tr>\n      <th>573</th>\n      <td>Year</td>\n      <td>2013</td>\n      <td>CO2 (kt)</td>\n      <td>0.999455</td>\n      <td>0.021042</td>\n      <td>outlier</td>\n      <td>shape</td>\n      <td>0.021030</td>\n      <td>153</td>\n      <td>16218</td>\n    </tr>\n    <tr>\n      <th>574</th>\n      <td>Year</td>\n      <td>-1</td>\n      <td>SO2 kt</td>\n      <td>0.668848</td>\n      <td>0.017349</td>\n      <td>trend</td>\n      <td>shape</td>\n      <td>0.011604</td>\n      <td>301</td>\n      <td>51</td>\n    </tr>\n    <tr>\n      <th>575</th>\n      <td>Year</td>\n      <td>-1</td>\n      <td>SO2 kt</td>\n      <td>0.682129</td>\n      <td>0.019681</td>\n      <td>trend</td>\n      <td>shape</td>\n      <td>0.013425</td>\n      <td>304</td>\n      <td>32</td>\n    </tr>\n    <tr>\n      <th>576</th>\n      <td>Year</td>\n      <td>-1</td>\n      <td>SO2 kt</td>\n      <td>0.952682</td>\n      <td>0.018175</td>\n      <td>trend</td>\n      <td>shape</td>\n      <td>0.017315</td>\n      <td>320</td>\n      <td>62</td>\n    </tr>\n    <tr>\n      <th>577</th>\n      <td>Year</td>\n      <td>-1</td>\n      <td>SO2 kt</td>\n      <td>0.931379</td>\n      <td>0.017203</td>\n      <td>trend</td>\n      <td>shape</td>\n      <td>0.016022</td>\n      <td>338</td>\n      <td>76</td>\n    </tr>\n  </tbody>\n</table>\n<p>578 rows × 10 columns</p>\n</div>"
     },
     "execution_count": 73,
     "metadata": {},
     "output_type": "execute_result"
    }
   ],
   "source": [
    "insight_df.drop(feature_list[file_index], inplace=True, axis=1)\n",
    "insight_df"
   ],
   "metadata": {
    "collapsed": false,
    "pycharm": {
     "name": "#%%\n"
    }
   }
  },
  {
   "cell_type": "code",
   "execution_count": 74,
   "outputs": [],
   "source": [
    "record_path = root + \"backend_data\\\\record_\" + file_list[file_index] + \".csv\"\n",
    "insight_path = root + \"backend_data\\\\insight_\" + file_list[file_index] + \".csv\"\n",
    "subspace_path = root + \"backend_data\\\\subspace_\" + file_list[file_index] + \".csv\"\n",
    "sid_cid_path = root + \"backend_data\\\\sid_cid_\" + file_list[file_index] + \".csv\"\n",
    "with open(record_path, 'w+') as file:\n",
    "    record.to_csv(file, index=False, line_terminator='\\n')\n",
    "with open(insight_path, 'w+') as file:\n",
    "    insight_df.to_csv(file, index=False, line_terminator='\\n')\n",
    "with open(subspace_path, 'w+') as file:\n",
    "    subspace_df.to_csv(file, index=False, line_terminator='\\n')\n",
    "with open(sid_cid_path, 'w+') as file:\n",
    "    subspace_record_df.to_csv(file, index=False, line_terminator='\\n')"
   ],
   "metadata": {
    "collapsed": false,
    "pycharm": {
     "name": "#%%\n"
    }
   }
  },
  {
   "cell_type": "code",
   "execution_count": 75,
   "outputs": [],
   "source": [
    "# file_index = 2\n",
    "# record_path = root + \"backend_data\\\\record_\" + file_list[file_index] + \".csv\"\n",
    "# insight_path = root + \"backend_data\\\\insight_\" + file_list[file_index] + \".csv\"\n",
    "# subspace_path = root + \"backend_data\\\\subspace_\" + file_list[file_index] + \".csv\"\n",
    "# sid_cid_path = root + \"backend_data\\\\sid_cid_\" + file_list[file_index] + \".csv\"\n",
    "# iid_sid_path = root + \"backend_data\\\\iid_sid_\" + file_list[file_index] + \".csv\"\n",
    "#\n",
    "# insight_df = pd.read_csv(insight_path)\n",
    "# iid_sid_df = pd.read_csv(iid_sid_path)\n",
    "# insight_df = insight_df.merge(iid_sid_df, on='iid', how='inner')\n",
    "# with open(insight_path, 'w+') as file:\n",
    "#     insight_df.to_csv(file, index=False, line_terminator='\\n')\n"
   ],
   "metadata": {
    "collapsed": false,
    "pycharm": {
     "name": "#%%\n"
    }
   }
  }
 ],
 "metadata": {
  "kernelspec": {
   "name": "py38",
   "language": "python",
   "display_name": "Python 3.8 (py38)"
  },
  "language_info": {
   "codemirror_mode": {
    "name": "ipython",
    "version": 2
   },
   "file_extension": ".py",
   "mimetype": "text/x-python",
   "name": "python",
   "nbconvert_exporter": "python",
   "pygments_lexer": "ipython2",
   "version": "2.7.6"
  }
 },
 "nbformat": 4,
 "nbformat_minor": 0
}