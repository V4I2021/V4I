{
 "cells": [
  {
   "cell_type": "code",
   "execution_count": 3,
   "metadata": {
    "ExecuteTime": {
     "end_time": "2021-01-10T08:37:14.107879Z",
     "start_time": "2021-01-10T08:37:14.096700Z"
    }
   },
   "outputs": [
    {
     "name": "stdout",
     "output_type": "stream",
     "text": [
      "String Column:  ['Year', 'Brand', 'Category']\n",
      "Numeric Column:  ['Sales']\n"
     ]
    }
   ],
   "source": [
    "import numpy as np\n",
    "import pandas as pd\n",
    "import itertools\n",
    "\n",
    "# dataPath =Data/carSales.csvs.csv\"\n",
    "dataPath =\"Data/carSales1.csv\"\n",
    "\n",
    "'''\n",
    "读取数据\n",
    "str_col:  可以用作subspace的列\n",
    "num_col:  measure的列\n",
    "'''\n",
    "\n",
    "df = pd.read_csv(dataPath)\n",
    "df = df.fillna(0)\n",
    "num_col = df.select_dtypes(include=np.number).columns.tolist()\n",
    "str_col = [str for str in df.columns.tolist() if str not in num_col]\n",
    "\n",
    "print(\"String Column: \", str_col)\n",
    "print(\"Numeric Column: \", num_col)"
   ]
  },
  {
   "cell_type": "markdown",
   "metadata": {},
   "source": [
    "## Extract Top 1 Insight using QuickInsight Format"
   ]
  },
  {
   "cell_type": "code",
   "execution_count": 4,
   "metadata": {
    "ExecuteTime": {
     "end_time": "2021-01-10T08:37:34.162925Z",
     "start_time": "2021-01-10T08:37:34.154029Z"
    }
   },
   "outputs": [
    {
     "name": "stdout",
     "output_type": "stream",
     "text": [
      "{'Year': ['2007/1/1', '2008/1/1', '2009/1/1', '2010/1/1', '2011/1/1'], 'Brand': ['BMW', 'Ford', 'GMC', 'Honda', 'Hyundai', 'Mazda', 'Toyota', 'Volkswagen'], 'Category': ['Compact', 'Fullsize', 'Midsize', 'Sporty', 'Subcompact', 'SUV', 'Pickup', 'MPV']}\n"
     ]
    }
   ],
   "source": [
    "'''\n",
    "获取每一个subspace的range\n",
    "'''\n",
    "dim_range = dict()\n",
    "for dim in str_col:\n",
    "    dim_range[dim] = []\n",
    "    dim_range[dim].extend(df[dim].unique())\n",
    "print(dim_range)"
   ]
  },
  {
   "cell_type": "code",
   "execution_count": 8,
   "metadata": {
    "ExecuteTime": {
     "end_time": "2021-01-10T08:55:12.005516Z",
     "start_time": "2021-01-10T08:55:11.995291Z"
    }
   },
   "outputs": [],
   "source": [
    "def format_subspace(subspace):\n",
    "    '''\n",
    "    subspace输出格式化\n",
    "    '''\n",
    "    subspace_string = []\n",
    "    for dim in str_col:\n",
    "        exist = False\n",
    "        for space in subspace:\n",
    "            if space in dim_range[dim]:\n",
    "                exist = True\n",
    "                subspace_string.append(space)\n",
    "        if not exist:\n",
    "            subspace_string.append(\"*\")\n",
    "    return subspace_string"
   ]
  },
  {
   "cell_type": "code",
   "execution_count": 9,
   "metadata": {
    "ExecuteTime": {
     "end_time": "2021-01-10T08:55:14.965621Z",
     "start_time": "2021-01-10T08:55:13.815255Z"
    }
   },
   "outputs": [
    {
     "name": "stdout",
     "output_type": "stream",
     "text": [
      "*;*;*,Year,Sales,91726.56363636363,2007/1/1\n",
      "*;*;*,Brand,Sales,177257.04,Honda\n",
      "*;*;*,Category,Sales,149148.97435897434,Midsize\n",
      "2007/1/1;*;*,Brand,Sales,206827.2,Honda\n",
      "2007/1/1;*;*,Category,Sales,179617.42857142858,Midsize\n",
      "2008/1/1;*;*,Brand,Sales,203119.6,Honda\n",
      "2008/1/1;*;*,Category,Sales,150622.0,Midsize\n",
      "2009/1/1;*;*,Brand,Sales,164125.4,Honda\n",
      "2009/1/1;*;*,Category,Sales,131875.0,Midsize\n",
      "2010/1/1;*;*,Brand,Sales,163012.6,Honda\n",
      "2010/1/1;*;*,Category,Sales,142726.25,Midsize\n",
      "2011/1/1;*;*,Brand,Sales,149200.4,Honda\n",
      "2011/1/1;*;*,Category,Sales,144712.75,Midsize\n",
      "*;BMW;*,Year,Sales,34151.22222222222,2007/1/1\n",
      "*;BMW;*,Category,Sales,99222.83333333333,Compact\n",
      "*;Ford;*,Year,Sales,117825.18181818182,2011/1/1\n",
      "*;Ford;*,Category,Sales,189015.6,Midsize\n",
      "*;GMC;*,Year,Sales,70776.66666666667,2007/1/1\n",
      "*;GMC;*,Category,Sales,83114.4,Pickup\n",
      "*;Honda;*,Year,Sales,206827.2,2007/1/1\n",
      "*;Honda;*,Category,Sales,314133.4,Midsize\n",
      "*;Hyundai;*,Year,Sales,117909.2,2011/1/1\n",
      "*;Hyundai;*,Category,Sales,161107.4,Midsize\n",
      "*;Mazda;*,Year,Sales,47051.4,2007/1/1\n",
      "*;Mazda;*,Category,Sales,107096.8,Compact\n",
      "*;Toyota;*,Year,Sales,188699.42857142858,2007/1/1\n",
      "*;Toyota;*,Category,Sales,380572.6,Midsize\n",
      "*;Volkswagen;*,Year,Sales,19224.14285714286,2011/1/1\n",
      "*;Volkswagen;*,Category,Sales,22096.2,Compact\n",
      "*;*;Compact,Year,Sales,118714.4,2011/1/1\n",
      "*;*;Compact,Brand,Sales,175521.4,Ford\n",
      "*;*;Fullsize,Year,Sales,47950.666666666664,2007/1/1\n",
      "*;*;Fullsize,Brand,Sales,52200.7,Ford\n",
      "*;*;Midsize,Year,Sales,179617.42857142858,2007/1/1\n",
      "*;*;Midsize,Brand,Sales,380572.6,Toyota\n",
      "*;*;Sporty,Year,Sales,41625.0,2007/1/1\n",
      "*;*;Sporty,Brand,Sales,87330.8,Ford\n",
      "*;*;Subcompact,Year,Sales,109537.55555555556,2008/1/1\n",
      "*;*;Subcompact,Brand,Sales,184926.2,Toyota\n",
      "*;*;SUV,Year,Sales,73834.77272727272,2007/1/1\n",
      "*;*;SUV,Brand,Sales,113207.0,Honda\n",
      "*;*;Pickup,Year,Sales,100614.0,2007/1/1\n",
      "*;*;Pickup,Brand,Sales,83114.4,GMC\n",
      "*;*;MPV,Year,Sales,22021,2008/1/1\n",
      "*;*;MPV,Brand,Sales,17812.8,Mazda\n",
      "2007/1/1;BMW;*,Category,Sales,98316,Compact\n",
      "2007/1/1;Ford;*,Category,Sales,173213.0,Compact\n",
      "2007/1/1;GMC;*,Category,Sales,114565.5,Pickup\n",
      "2007/1/1;Honda;*,Category,Sales,392231.0,Midsize\n",
      "2007/1/1;Hyundai;*,Category,Sales,145568.0,Midsize\n",
      "2007/1/1;Mazda;*,Category,Sales,120291,Compact\n",
      "2007/1/1;Toyota;*,Category,Sales,473108.0,Midsize\n",
      "2007/1/1;Volkswagen;*,Category,Sales,31021,Subcompact\n",
      "2008/1/1;BMW;*,Category,Sales,112464.0,Compact\n",
      "2008/1/1;Ford;*,Category,Sales,195823,Compact\n",
      "2008/1/1;GMC;*,Category,Sales,91759.0,Pickup\n",
      "2008/1/1;Honda;*,Category,Sales,372789.0,Midsize\n",
      "2008/1/1;Hyundai;*,Category,Sales,117357.0,Midsize\n",
      "2008/1/1;Mazda;*,Category,Sales,109957,Compact\n",
      "2008/1/1;Toyota;*,Category,Sales,436617.0,Midsize\n",
      "2008/1/1;Volkswagen;*,Category,Sales,26477.0,Subcompact\n",
      "2009/1/1;BMW;*,Category,Sales,90960.0,Compact\n",
      "2009/1/1;Ford;*,Category,Sales,180671.0,Midsize\n",
      "2009/1/1;GMC;*,Category,Sales,60974.5,Pickup\n",
      "2009/1/1;Honda;*,Category,Sales,287492.0,Midsize\n",
      "2009/1/1;Hyundai;*,Category,Sales,120028,Midsize\n",
      "2009/1/1;Mazda;*,Category,Sales,96466,Compact\n",
      "2009/1/1;Toyota;*,Category,Sales,356824.0,Midsize\n",
      "2009/1/1;Volkswagen;*,Category,Sales,17505.0,Midsize\n",
      "2010/1/1;BMW;*,Category,Sales,100910,Compact\n",
      "2010/1/1;Ford;*,Category,Sales,219219.0,Midsize\n",
      "2010/1/1;GMC;*,Category,Sales,68893,Pickup\n",
      "2010/1/1;Honda;*,Category,Sales,282530.0,Midsize\n",
      "2010/1/1;Hyundai;*,Category,Sales,196623,Midsize\n",
      "2010/1/1;Mazda;*,Category,Sales,106353,Compact\n",
      "2010/1/1;Toyota;*,Category,Sales,327804,Midsize\n",
      "2010/1/1;Volkswagen;*,Category,Sales,28286.0,Compact\n",
      "2011/1/1;BMW;*,Category,Sales,94371,Compact\n",
      "2011/1/1;Ford;*,Category,Sales,248067.0,Midsize\n",
      "2011/1/1;GMC;*,Category,Sales,79380,Pickup\n",
      "2011/1/1;Honda;*,Category,Sales,235625.0,Midsize\n",
      "2011/1/1;Hyundai;*,Category,Sales,225961.0,Midsize\n",
      "2011/1/1;Mazda;*,Category,Sales,102417,Compact\n",
      "2011/1/1;Toyota;*,Category,Sales,308510.0,Midsize\n",
      "2011/1/1;Volkswagen;*,Category,Sales,34706.0,Compact\n",
      "2007/1/1;*;Compact,Brand,Sales,173213,Ford\n",
      "2007/1/1;*;Fullsize,Brand,Sales,64539.5,Ford\n",
      "2007/1/1;*;Midsize,Brand,Sales,473108,Toyota\n",
      "2007/1/1;*;Sporty,Brand,Sales,134626,Ford\n",
      "2007/1/1;*;Subcompact,Brand,Sales,228094.5,Toyota\n",
      "2007/1/1;*;SUV,Brand,Sales,130956.25,Ford\n",
      "2007/1/1;*;Pickup,Brand,Sales,114565.5,GMC\n",
      "2007/1/1;*;MPV,Brand,Sales,13717,Mazda\n",
      "2008/1/1;*;Compact,Brand,Sales,195823,Ford\n",
      "2008/1/1;*;Fullsize,Brand,Sales,50612,Ford\n",
      "2008/1/1;*;Midsize,Brand,Sales,436617.0,Toyota\n",
      "2008/1/1;*;Sporty,Brand,Sales,91251,Ford\n",
      "2008/1/1;*;Subcompact,Brand,Sales,226667.5,Toyota\n",
      "2008/1/1;*;SUV,Brand,Sales,111863.0,Honda\n",
      "2008/1/1;*;Pickup,Brand,Sales,91759,GMC\n",
      "2008/1/1;*;MPV,Brand,Sales,22021,Mazda\n",
      "2009/1/1;*;Compact,Brand,Sales,160433,Ford\n",
      "2009/1/1;*;Fullsize,Brand,Sales,39436,Ford\n",
      "2009/1/1;*;Midsize,Brand,Sales,356824,Toyota\n",
      "2009/1/1;*;Sporty,Brand,Sales,66623,Ford\n",
      "2009/1/1;*;Subcompact,Brand,Sales,180308.5,Toyota\n",
      "2009/1/1;*;SUV,Brand,Sales,103049.0,Honda\n",
      "2009/1/1;*;Pickup,Brand,Sales,60974.5,GMC\n",
      "2009/1/1;*;MPV,Brand,Sales,18488,Mazda\n",
      "2010/1/1;*;Compact,Brand,Sales,172421,Ford\n",
      "2010/1/1;*;Fullsize,Brand,Sales,51290.5,Ford\n",
      "2010/1/1;*;Midsize,Brand,Sales,327804,Toyota\n",
      "2010/1/1;*;Sporty,Brand,Sales,73716,Ford\n",
      "2010/1/1;*;Subcompact,Brand,Sales,157286,Honda\n",
      "2010/1/1;*;SUV,Brand,Sales,108980.5,Honda\n",
      "2010/1/1;*;Pickup,Brand,Sales,68893,GMC\n",
      "2010/1/1;*;MPV,Brand,Sales,15683,Mazda\n",
      "2011/1/1;*;Compact,Brand,Sales,186361,Hyundai\n",
      "2011/1/1;*;Fullsize,Brand,Sales,55125.5,Ford\n",
      "2011/1/1;*;Midsize,Brand,Sales,308510.0,Toyota\n",
      "2011/1/1;*;Sporty,Brand,Sales,70438,Ford\n",
      "2011/1/1;*;Subcompact,Brand,Sales,140235.0,Honda\n",
      "2011/1/1;*;SUV,Brand,Sales,138049.5,Ford\n",
      "2011/1/1;*;Pickup,Brand,Sales,79380,GMC\n",
      "2011/1/1;*;MPV,Brand,Sales,19155,Mazda\n",
      "*;BMW;Compact,Year,Sales,112464,2008/1/1\n",
      "*;BMW;Fullsize,Year,Sales,14773,2007/1/1\n",
      "*;BMW;Midsize,Year,Sales,51491,2011/1/1\n",
      "*;BMW;Sporty,Year,Sales,9565,2007/1/1\n",
      "*;BMW;Subcompact,Year,Sales,13132,2010/1/1\n",
      "*;BMW;SUV,Year,Sales,24844.0,2011/1/1\n",
      "*;Ford;Compact,Year,Sales,195823,2008/1/1\n",
      "*;Ford;Fullsize,Year,Sales,64539.5,2007/1/1\n",
      "*;Ford;Midsize,Year,Sales,248067,2011/1/1\n",
      "*;Ford;Sporty,Year,Sales,134626,2007/1/1\n",
      "*;Ford;Subcompact,Year,Sales,68574,2011/1/1\n",
      "*;Ford;SUV,Year,Sales,138049.5,2011/1/1\n",
      "*;Ford;Pickup,Year,Sales,72711,2007/1/1\n",
      "*;GMC;SUV,Year,Sales,55485.0,2011/1/1\n",
      "*;GMC;Pickup,Year,Sales,114565.5,2007/1/1\n",
      "*;Honda;Midsize,Year,Sales,392231,2007/1/1\n",
      "*;Honda;Subcompact,Year,Sales,209541.5,2008/1/1\n",
      "*;Honda;SUV,Year,Sales,127189.0,2007/1/1\n",
      "*;Hyundai;Compact,Year,Sales,186361,2011/1/1\n",
      "*;Hyundai;Midsize,Year,Sales,225961,2011/1/1\n",
      "*;Hyundai;Subcompact,Year,Sales,68086,2009/1/1\n",
      "*;Hyundai;SUV,Year,Sales,66948.5,2007/1/1\n",
      "*;Mazda;Compact,Year,Sales,120291,2007/1/1\n",
      "*;Mazda;Midsize,Year,Sales,57575,2007/1/1\n",
      "*;Mazda;Subcompact,Year,Sales,13952,2011/1/1\n",
      "*;Mazda;SUV,Year,Sales,41653,2007/1/1\n",
      "*;Mazda;MPV,Year,Sales,22021,2008/1/1\n",
      "*;Toyota;Midsize,Year,Sales,473108,2007/1/1\n",
      "*;Toyota;Subcompact,Year,Sales,228094.5,2007/1/1\n",
      "*;Toyota;SUV,Year,Sales,97899.75,2007/1/1\n",
      "*;Volkswagen;Compact,Year,Sales,34706,2011/1/1\n",
      "*;Volkswagen;Midsize,Year,Sales,26168.5,2011/1/1\n",
      "*;Volkswagen;Sporty,Year,Sales,12837,2008/1/1\n",
      "*;Volkswagen;Subcompact,Year,Sales,31021,2007/1/1\n",
      "*;Volkswagen;SUV,Year,Sales,16762.5,2011/1/1\n"
     ]
    }
   ],
   "source": [
    "for subspaceLen in range(0, len(str_col)):\n",
    "#     subspaceLen: subspace的个数\n",
    "    for dims in itertools.combinations(str_col, subspaceLen):\n",
    "#       dims: subspace中的元素\n",
    "        breakdowns = [x for x in str_col if (x not in dims)]\n",
    "        space_range = []\n",
    "        for dim in dims:\n",
    "            space_range.append(dim_range[dim])\n",
    "        combi = list(itertools.product(*space_range))\n",
    "        for subspace in combi:\n",
    "            for measure in num_col:\n",
    "                if (len(dims)>0):\n",
    "                    dff = df.loc[np.all([df[dims[i]] == subspace[i] for i in range(0, subspaceLen)], axis=0)]\n",
    "                else:\n",
    "                    dff =df\n",
    "#               df: subspace取特定值后得到的dataframe\n",
    "                for bd in breakdowns:\n",
    "                    df_group = dff.groupby(bd, as_index=False).mean()\n",
    "#                   现在groupby用的是平均值\n",
    "\n",
    "                    if not df_group.empty:\n",
    "                        idx = df_group[measure].idxmax()\n",
    "#                       获得Top1的index\n",
    "                        res_str = ';'.join(format_subspace(subspace))\n",
    "                        print('{},{},{},{},{}'.format(res_str, bd, measure, df_group.at[idx, measure], df_group.at[idx, bd]))"
   ]
  },
  {
   "cell_type": "code",
   "execution_count": null,
   "metadata": {},
   "outputs": [],
   "source": []
  }
 ],
 "metadata": {
  "kernelspec": {
   "display_name": "Python3.8 (py38)",
   "language": "python",
   "name": "py38"
  },
  "language_info": {
   "codemirror_mode": {
    "name": "ipython",
    "version": 3
   },
   "file_extension": ".py",
   "mimetype": "text/x-python",
   "name": "python",
   "nbconvert_exporter": "python",
   "pygments_lexer": "ipython3",
   "version": "3.8.5"
  },
  "toc": {
   "base_numbering": 1,
   "nav_menu": {},
   "number_sections": true,
   "sideBar": true,
   "skip_h1_title": false,
   "title_cell": "Table of Contents",
   "title_sidebar": "Contents",
   "toc_cell": false,
   "toc_position": {},
   "toc_section_display": true,
   "toc_window_display": false
  },
  "varInspector": {
   "cols": {
    "lenName": 16,
    "lenType": 16,
    "lenVar": 40
   },
   "kernels_config": {
    "python": {
     "delete_cmd_postfix": "",
     "delete_cmd_prefix": "del ",
     "library": "var_list.py",
     "varRefreshCmd": "print(var_dic_list())"
    },
    "r": {
     "delete_cmd_postfix": ") ",
     "delete_cmd_prefix": "rm(",
     "library": "var_list.r",
     "varRefreshCmd": "cat(var_dic_list()) "
    }
   },
   "types_to_exclude": [
    "module",
    "function",
    "builtin_function_or_method",
    "instance",
    "_Feature"
   ],
   "window_display": false
  }
 },
 "nbformat": 4,
 "nbformat_minor": 4
}
