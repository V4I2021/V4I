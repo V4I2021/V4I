{
 "cells": [
  {
   "cell_type": "code",
   "execution_count": 7,
   "metadata": {},
   "outputs": [],
   "source": [
    "import time\n",
    "def is_palindrome(string):\n",
    "    return string == string[::-1]\n",
    "\n",
    "def get_longest_palindrome(string):\n",
    "    max_len = 1\n",
    "    longest_string = ''\n",
    "    for i in range(len(string)):\n",
    "        if i - max_len >= 1 and is_palindrome(string[i-max_len - 1:i+1]):\n",
    "            start = i - max_len - 1\n",
    "            max_len += 2\n",
    "        elif i-max_len >=0 and is_palindrome(string[i-max_len:i+1]):\n",
    "            start = i - max_len\n",
    "            max_len += 1\n",
    "            \n",
    "    return string[start:start + max_len]"
   ]
  },
  {
   "cell_type": "code",
   "execution_count": 1,
   "metadata": {},
   "outputs": [
    {
     "name": "stdout",
     "output_type": "stream",
     "text": [
      "2.8284271247461903\n"
     ]
    }
   ],
   "source": [
    "import numpy as np\n",
    "from scipy.spatial.distance import euclidean\n",
    "\n",
    "from fastdtw import fastdtw\n",
    "\n",
    "x = np.array([[1,1], [2,2], [3,3], [4,4], [5,5]])\n",
    "y = np.array([[2,2], [3,3], [4,4]])\n",
    "distance, path = fastdtw(x, y, dist=euclidean)\n",
    "print(distance)"
   ]
  },
  {
   "cell_type": "code",
   "execution_count": 2,
   "metadata": {},
   "outputs": [],
   "source": [
    "x = np.array([[1,1], [2,2], [3,3], [4,4], [5,5]])\n",
    "y = np.array([[2,2], [3,3], [4,4]])\n",
    "distance, path = fastdtw(x, y, dist=euclidean)"
   ]
  },
  {
   "cell_type": "code",
   "execution_count": 5,
   "metadata": {},
   "outputs": [],
   "source": [
    "import random\n",
    "arr1 = []\n",
    "\n",
    "arr2 = []\n",
    "for i in range(0, 100):\n",
    "    arr1.append([random.random(), random.random()])\n",
    "    arr2.append([random.random(), random.random()])\n",
    "    pass"
   ]
  },
  {
   "cell_type": "code",
   "execution_count": 8,
   "metadata": {},
   "outputs": [
    {
     "name": "stdout",
     "output_type": "stream",
     "text": [
      "3.701127767562866\n"
     ]
    }
   ],
   "source": [
    "start_time = time.time()\n",
    "distance, path = fastdtw(arr1, arr2, dist=euclidean)\n",
    "print(time.time() - start_time)"
   ]
  },
  {
   "cell_type": "code",
   "execution_count": null,
   "metadata": {},
   "outputs": [],
   "source": []
  }
 ],
 "metadata": {
  "kernelspec": {
   "display_name": "Python 3",
   "language": "python",
   "name": "python3"
  },
  "language_info": {
   "codemirror_mode": {
    "name": "ipython",
    "version": 3
   },
   "file_extension": ".py",
   "mimetype": "text/x-python",
   "name": "python",
   "nbconvert_exporter": "python",
   "pygments_lexer": "ipython3",
   "version": "3.5.6"
  }
 },
 "nbformat": 4,
 "nbformat_minor": 2
}
