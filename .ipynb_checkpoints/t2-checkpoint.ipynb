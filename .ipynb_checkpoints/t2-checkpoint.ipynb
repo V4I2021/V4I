{
 "cells": [
  {
   "cell_type": "code",
   "execution_count": 9,
   "metadata": {},
   "outputs": [
    {
     "data": {
      "text/plain": [
       "34"
      ]
     },
     "execution_count": 9,
     "metadata": {},
     "output_type": "execute_result"
    }
   ],
   "source": [
    "def get_rabit_number(n_day):\n",
    "    a,b,c = 1, 0, 0\n",
    "    \n",
    "    for i in range(1, n_day):\n",
    "        c += b\n",
    "        b = a\n",
    "        a = c\n",
    "    return a + b + c\n",
    "\n",
    "get_rabit_number(9)\n",
    "    "
   ]
  },
  {
   "cell_type": "code",
   "execution_count": 45,
   "metadata": {},
   "outputs": [
    {
     "name": "stdout",
     "output_type": "stream",
     "text": [
      "nihaobcdefgjklmpqrstuvwxyz\n",
      "{'r': 'r', 'D': 'A', 'g': 'c', 'R': 'R', 'q': 'q', 'a': 'n', 'V': 'V', 'J': 'F', 'B': 'I', 'X': 'X', 'w': 'w', 'l': 'j', 'o': 'm', 'p': 'p', 'E': 'O', 'M': 'K', 'c': 'h', 'L': 'J', 'b': 'i', 's': 's', 'P': 'P', 'y': 'y', 'm': 'k', 'H': 'D', 'k': 'g', 'O': 'M', 'e': 'o', 'd': 'a', 'Q': 'Q', 'T': 'T', 'v': 'v', 'K': 'G', 'i': 'e', 'z': 'z', 'h': 'd', 'n': 'l', 'N': 'L', 'I': 'E', 'A': 'N', 'j': 'f', 't': 't', 'Y': 'Y', 'C': 'H', 'u': 'u', 'x': 'x', 'S': 'S', 'f': 'b', 'U': 'U', 'F': 'B', 'G': 'C', 'Z': 'Z', 'W': 'W'}\n"
     ]
    },
    {
     "data": {
      "text/plain": [
       "'le'"
      ]
     },
     "execution_count": 45,
     "metadata": {},
     "output_type": "execute_result"
    }
   ],
   "source": [
    "alphabet = 'abcdefghijklmnopqrstuvwxyz'\n",
    "key = 'TRAILBLAZERS'.lower()\n",
    "\n",
    "\n",
    "def get_new_algphabet(key,alphabet):\n",
    "    single_v_word = ''\n",
    "    for c in key.lower():\n",
    "        if c not in single_v_word:\n",
    "            single_v_word += c\n",
    "            \n",
    "    alphabet_map = single_v_word[:]\n",
    "\n",
    "    for c in alphabet:\n",
    "        if c not in alphabet_map:\n",
    "            alphabet_map += c\n",
    "    return alphabet_map\n",
    "\n",
    "\n",
    "def encrypt(string, key, alphabet):\n",
    "    alphabet_map = get_new_algphabet(key, alphabet)\n",
    "\n",
    "    alphabet_map_double = alphabet_map + alphabet_map.upper()\n",
    "    row_alphable = alphabet + alphabet.upper()\n",
    "    all_map = {}\n",
    "    for i in range(len(row_alphable)):\n",
    "        all_map[row_alphable[i]] = alphabet_map_double[i]\n",
    "    \n",
    "\n",
    "    output_string = ''\n",
    "    for c in string:\n",
    "        if c not in all_map:\n",
    "            output_string += c\n",
    "        else: \n",
    "            output_string += all_map[c]\n",
    "    return output_string\n",
    "    \n",
    "    \n",
    "# get_new_algphabet(alphabet, word)\n",
    "encrypt(\"ni\",'nihao', alphabet)\n",
    "    "
   ]
  },
  {
   "cell_type": "code",
   "execution_count": 60,
   "metadata": {},
   "outputs": [
    {
     "name": "stdout",
     "output_type": "stream",
     "text": [
      "2.875\n",
      "0.03125\n"
     ]
    }
   ],
   "source": [
    "def free_falls(height, N = 5):\n",
    "    total_height = 0\n",
    "    pre_height = 0\n",
    "    for i in range(N):\n",
    "        total_height += (pre_height + height)\n",
    "        height = float(height) / 2\n",
    "        pre_height = height\n",
    "    print(total_height)\n",
    "    print(height)\n",
    "    \n",
    "        \n",
    "free_falls(1)"
   ]
  },
  {
   "cell_type": "code",
   "execution_count": 62,
   "metadata": {},
   "outputs": [
    {
     "data": {
      "text/plain": [
       "111552.875"
      ]
     },
     "execution_count": 62,
     "metadata": {},
     "output_type": "execute_result"
    }
   ],
   "source": [
    "23 / 8 * 38801"
   ]
  },
  {
   "cell_type": "code",
   "execution_count": 64,
   "metadata": {},
   "outputs": [
    {
     "data": {
      "text/plain": [
       "[1, 2, 3, 4]"
      ]
     },
     "execution_count": 64,
     "metadata": {},
     "output_type": "execute_result"
    }
   ],
   "source": [
    "sorted([1,2,3,4])"
   ]
  },
  {
   "cell_type": "code",
   "execution_count": 65,
   "metadata": {},
   "outputs": [
    {
     "name": "stdout",
     "output_type": "stream",
     "text": [
      "[0, 0, 0, 0, 0, 0, 0]\n",
      "[0, 0, 0, 0, 0, 0, 0]\n",
      "[0, 0, 0, 0, 0, 0, 0]\n",
      "[0, 0, 0, 0, 0, 0, 0]\n",
      "[0, 0, 0, 0, 0, 0, 0]\n",
      "[0, 0, 0, 0, 0, 0, 0]\n",
      "[0, 0, 0, 0, 0, 0, 0]\n",
      "[0, 0, 0, 0, 0, 0, 0]\n",
      "[0, 0, 0, 0, 0, 0, 0]\n",
      "[0, 0, 0, 0, 0, 0, 0]\n",
      "[0, 0, 0, 0, 0, 0, 0]\n",
      "[0, 0, 0, 0, 0, 0, 0]\n"
     ]
    }
   ],
   "source": [
    "def longest_common_string(string1, string2):\n",
    "    dp_table = [[0 for _ in range(len(string1))] for __ in range(len(string2))]\n",
    "    for row in dp_table:\n",
    "        print(row)\n",
    "    for i,c2 in enumerate(string2):\n",
    "        for j, c1 in enumerate(string1):\n",
    "            if c1 == c2:\n",
    "                if i == 0 or j == 0:\n",
    "                    dp_table[i][j] = 1\n",
    "                else:\n",
    "                    dp_table[i][j] = dp_table[i-1][j-1] + 1\n",
    "    \n",
    "longest_common_string(\"asdfas\", \"werasdfaswer\")"
   ]
  },
  {
   "cell_type": "code",
   "execution_count": null,
   "metadata": {},
   "outputs": [],
   "source": []
  }
 ],
 "metadata": {
  "kernelspec": {
   "display_name": "Python 3",
   "language": "python",
   "name": "python3"
  },
  "language_info": {
   "codemirror_mode": {
    "name": "ipython",
    "version": 3
   },
   "file_extension": ".py",
   "mimetype": "text/x-python",
   "name": "python",
   "nbconvert_exporter": "python",
   "pygments_lexer": "ipython3",
   "version": "3.5.6"
  }
 },
 "nbformat": 4,
 "nbformat_minor": 2
}
