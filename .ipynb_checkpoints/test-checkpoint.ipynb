{
 "cells": [
  {
   "cell_type": "code",
   "execution_count": null,
   "metadata": {},
   "outputs": [],
   "source": [
    "a = \"1234567\"\n",
    "b = \"123\""
   ]
  },
  {
   "cell_type": "code",
   "execution_count": 121,
   "metadata": {},
   "outputs": [
    {
     "data": {
      "text/plain": [
       "'123977601'"
      ]
     },
     "execution_count": 121,
     "metadata": {},
     "output_type": "execute_result"
    }
   ],
   "source": [
    "def multiply(string, s, bit_l):\n",
    "    reverse_string = string[::-1]\n",
    "    result_string = ''\n",
    "    next_bit = 0\n",
    "    for i in reverse_string:\n",
    "        multiply_bit = int(i) * int(s) + next_bit\n",
    "        curr_bit = multiply_bit % 10 \n",
    "        result_string += str(curr_bit) \n",
    "        next_bit = int(multiply_bit / 10)\n",
    "    if next_bit >= 1:\n",
    "        result_string += str(next_bit)\n",
    "    result_string = result_string[::-1]\n",
    "    result_string  +=  ''.join(['0' for _ in range(0, bit_l)])\n",
    "    return result_string\n",
    "\n",
    "def str_sum(s1, s2):\n",
    "    [s1, s2] = [s1[::-1],s2[::-1]] if len(s1) > len(s2) else [s2[::-1], s1[::-1]]\n",
    "    s2 += ''.join('0' for i in range(len(s1) - len(s2)))\n",
    "    next_bit = 0\n",
    "    result_string  = ''\n",
    "    for i in range(len(s2)):\n",
    "        add_bit =int( s1[i]) + int(s2[i]) + next_bit\n",
    "        curr_bit = add_bit % 10\n",
    "        result_string += str(curr_bit) \n",
    "        next_bit = int(add_bit / 10)\n",
    "    \n",
    "    if next_bit >= 1:\n",
    "        result_string += str(next_bit)\n",
    "    result_string = result_string[::-1]\n",
    "        \n",
    "    return result_string\n",
    "\n",
    "def multily_all(a, b):\n",
    "    [a, b] = [a,b[::-1]] if len(a) > len(b) else [a, b[::-1]]\n",
    "    final_result_string = '0'\n",
    "    for i in range(len(b)):\n",
    "        mul_str = multiply(a, b[i], i)\n",
    "        final_result_string = str_sum(final_result_string, mul_str)\n",
    "    return final_result_string\n",
    "\n",
    "multily_all('1234567', '123')\n"
   ]
  },
  {
   "cell_type": "code",
   "execution_count": 123,
   "metadata": {},
   "outputs": [
    {
     "data": {
      "text/plain": [
       "123977601"
      ]
     },
     "execution_count": 123,
     "metadata": {},
     "output_type": "execute_result"
    }
   ],
   "source": [
    "9999*12399"
   ]
  },
  {
   "cell_type": "code",
   "execution_count": 106,
   "metadata": {},
   "outputs": [
    {
     "data": {
      "text/plain": [
       "'941481483'"
      ]
     },
     "execution_count": 106,
     "metadata": {},
     "output_type": "execute_result"
    }
   ],
   "source": []
  },
  {
   "cell_type": "code",
   "execution_count": null,
   "metadata": {},
   "outputs": [],
   "source": []
  },
  {
   "cell_type": "code",
   "execution_count": 96,
   "metadata": {},
   "outputs": [
    {
     "name": "stdout",
     "output_type": "stream",
     "text": [
      "1\n"
     ]
    },
    {
     "data": {
      "text/plain": [
       "'10414220'"
      ]
     },
     "execution_count": 96,
     "metadata": {},
     "output_type": "execute_result"
    }
   ],
   "source": [
    "str_sum('1207110','9207110')"
   ]
  },
  {
   "cell_type": "code",
   "execution_count": 97,
   "metadata": {},
   "outputs": [
    {
     "data": {
      "text/plain": [
       "10414220"
      ]
     },
     "execution_count": 97,
     "metadata": {},
     "output_type": "execute_result"
    }
   ],
   "source": [
    "1207110 + 9207110"
   ]
  },
  {
   "cell_type": "code",
   "execution_count": 60,
   "metadata": {},
   "outputs": [],
   "source": [
    "def multiply(string, s, i):\n",
    "    x = ['0' for _ in range(0, i)]\n",
    "    return x"
   ]
  },
  {
   "cell_type": "code",
   "execution_count": 69,
   "metadata": {
    "scrolled": true
   },
   "outputs": [
    {
     "data": {
      "text/plain": [
       "True"
      ]
     },
     "execution_count": 69,
     "metadata": {},
     "output_type": "execute_result"
    }
   ],
   "source": [
    "13131 * 5 * 10**5 == 6565500000"
   ]
  },
  {
   "cell_type": "code",
   "execution_count": 42,
   "metadata": {},
   "outputs": [
    {
     "data": {
      "text/plain": [
       "[]"
      ]
     },
     "execution_count": 42,
     "metadata": {},
     "output_type": "execute_result"
    }
   ],
   "source": [
    " multiply(str(50), str(100), 0)"
   ]
  },
  {
   "cell_type": "code",
   "execution_count": 53,
   "metadata": {},
   "outputs": [
    {
     "name": "stdout",
     "output_type": "stream",
     "text": [
      "25\n",
      "50 50 5200\n",
      "error 50 50\n"
     ]
    }
   ],
   "source": [
    "# test\n",
    "\n",
    "for i in range(50, 100):\n",
    "    for j in range(50, 100):\n",
    "        s = multiply(str(i), str(j), 0)\n",
    "        print(i,j,s)\n",
    "        if int(s) != i * j:\n",
    "            print('error', i ,j)\n",
    "            break\n",
    "    break"
   ]
  },
  {
   "cell_type": "code",
   "execution_count": 36,
   "metadata": {},
   "outputs": [
    {
     "data": {
      "text/plain": [
       "4077"
      ]
     },
     "execution_count": 36,
     "metadata": {},
     "output_type": "execute_result"
    }
   ],
   "source": [
    "453 * 9"
   ]
  },
  {
   "cell_type": "code",
   "execution_count": 147,
   "metadata": {},
   "outputs": [
    {
     "data": {
      "text/plain": [
       "'1 2 3\\n1 3 2\\n2 1 3\\n2 3 1\\n3 1 2\\n3 2 1\\n'"
      ]
     },
     "execution_count": 147,
     "metadata": {},
     "output_type": "execute_result"
    }
   ],
   "source": [
    "def enum_all_case(N, L):\n",
    "    L = sorted(L)\n",
    "    all_list = []\n",
    "    def generate_helper(left, right):\n",
    "        if len(right) == 0:\n",
    "            all_list.append(left)\n",
    "        else:\n",
    "            for index in range(len(right)):\n",
    "                new_left = left + [right[index]]\n",
    "                generate_helper(new_left, right[0:index] + right[index+1:])\n",
    "                \n",
    "        return all_list\n",
    "    generate_helper([], L)\n",
    "    output_string = ''\n",
    "    for arr in all_list:\n",
    "        output_string += ' '.join([str(s) for s in arr])\n",
    "        output_string += '\\n'\n",
    "    \n",
    "    \n",
    "    return output_string\n",
    "enum_all_case(3, [1,2,3])"
   ]
  },
  {
   "cell_type": "code",
   "execution_count": 125,
   "metadata": {},
   "outputs": [],
   "source": [
    "x = [1,2,3,4]"
   ]
  },
  {
   "cell_type": "code",
   "execution_count": 126,
   "metadata": {},
   "outputs": [
    {
     "data": {
      "text/plain": [
       "[]"
      ]
     },
     "execution_count": 126,
     "metadata": {},
     "output_type": "execute_result"
    }
   ],
   "source": [
    "x[4:-1]"
   ]
  },
  {
   "cell_type": "code",
   "execution_count": 138,
   "metadata": {},
   "outputs": [],
   "source": [
    "import sys"
   ]
  },
  {
   "cell_type": "code",
   "execution_count": 139,
   "metadata": {},
   "outputs": [],
   "source": [
    "line = sys.stdin.readline()\n",
    "\n",
    "for i in range(len(line)):\n",
    "    print(line[i]+'hello')"
   ]
  },
  {
   "cell_type": "code",
   "execution_count": null,
   "metadata": {},
   "outputs": [],
   "source": [
    "    else:\n",
    "        vals =[int(val) for val in line.split()]\n",
    "        generate_helper(N, vals)"
   ]
  },
  {
   "cell_type": "code",
   "execution_count": null,
   "metadata": {},
   "outputs": [],
   "source": []
  },
  {
   "cell_type": "code",
   "execution_count": 161,
   "metadata": {},
   "outputs": [
    {
     "data": {
      "text/plain": [
       "[[1, 2, 3], [1, 3, 2], [2, 1, 3], [2, 3, 1], [3, 2, 1]]"
      ]
     },
     "execution_count": 161,
     "metadata": {},
     "output_type": "execute_result"
    }
   ],
   "source": [
    "def train(L):\n",
    "    all_list = []\n",
    "    def train_helper(stack, output, remain):\n",
    "        if len(stack) == 0 and len(remain) == 0:\n",
    "            all_list.append(output)\n",
    "            return\n",
    "        elif len(remain) == 0:\n",
    "            train_helper(stack[:-1], output + [stack[-1]], remain[:])\n",
    "        elif len(stack) == 0:\n",
    "            train_helper(stack + [remain[0]], output[:], remain[1:])\n",
    "        else:\n",
    "            train_helper(stack[:-1], output + [stack[-1]], remain[:])\n",
    "            train_helper(stack + [remain[0]], output[:], remain[1:])\n",
    "    train_helper([], [], L)\n",
    "    return all_list\n",
    "train([1,2,3])"
   ]
  },
  {
   "cell_type": "code",
   "execution_count": null,
   "metadata": {},
   "outputs": [],
   "source": []
  },
  {
   "cell_type": "code",
   "execution_count": 162,
   "metadata": {},
   "outputs": [],
   "source": [
    "try:\n",
    "    while True:\n",
    "        line = sys.stdin.readline().strip()\n",
    "        if line == '':\n",
    "            break\n",
    "        n = int(line)\n",
    "        line = sys.stdin.readline().strip()\n",
    "        s = line.split()\n",
    "        result = []\n",
    "        solve(s, [], [], result)\n",
    "        result.sort()\n",
    "        for item in result:\n",
    "            r = ''\n",
    "            for i in item:\n",
    "                r += i + ' '\n",
    "            r = r[:-1]\n",
    "            print(r)\n",
    "except Exception as e:\n",
    "    print(e)\n"
   ]
  },
  {
   "cell_type": "code",
   "execution_count": 148,
   "metadata": {},
   "outputs": [],
   "source": [
    "a = [1,2,3]"
   ]
  },
  {
   "cell_type": "code",
   "execution_count": 149,
   "metadata": {},
   "outputs": [
    {
     "data": {
      "text/plain": [
       "3"
      ]
     },
     "execution_count": 149,
     "metadata": {},
     "output_type": "execute_result"
    }
   ],
   "source": [
    "a.pop()"
   ]
  },
  {
   "cell_type": "code",
   "execution_count": 164,
   "metadata": {
    "scrolled": true
   },
   "outputs": [
    {
     "data": {
      "text/plain": [
       "4"
      ]
     },
     "execution_count": 164,
     "metadata": {},
     "output_type": "execute_result"
    }
   ],
   "source": [
    "def count_digit(string, c):\n",
    "    n = 0\n",
    "    for char in string:\n",
    "        if c.upper() == char.upper():\n",
    "            n += 1\n",
    "    return n\n",
    "count_digit(\"ABCDEFabaca\", 'a')  "
   ]
  },
  {
   "cell_type": "code",
   "execution_count": 172,
   "metadata": {},
   "outputs": [
    {
     "data": {
      "text/plain": [
       "5"
      ]
     },
     "execution_count": 172,
     "metadata": {},
     "output_type": "execute_result"
    }
   ],
   "source": [
    "def get_final_num(n):\n",
    "    count = 0\n",
    "    while n >= 3:\n",
    "        drink_n = int(n / 3)\n",
    "        remain = n % 3\n",
    "        remain += drink_n\n",
    "        count += drink_n\n",
    "        n = remain\n",
    "    if n == 2:\n",
    "        count += 1\n",
    "    return count\n",
    "get_final_num(10)  "
   ]
  },
  {
   "cell_type": "code",
   "execution_count": 174,
   "metadata": {},
   "outputs": [],
   "source": [
    "import math"
   ]
  },
  {
   "cell_type": "code",
   "execution_count": 201,
   "metadata": {},
   "outputs": [
    {
     "data": {
      "text/plain": [
       "2"
      ]
     },
     "execution_count": 201,
     "metadata": {},
     "output_type": "execute_result"
    }
   ],
   "source": [
    "def is_prime(digit):\n",
    "    if digit in prime_map:\n",
    "        return True\n",
    "    for i in range(2, int(math.sqrt(digit)) + 1):\n",
    "        if digit % i == 0:\n",
    "            return False\n",
    "    prime_map[digit] = True\n",
    "    return True\n",
    "\n",
    "total_number = 0\n",
    "prime_map = {}\n",
    "def find_company(arr):\n",
    "    odd_list, even_list = [], []\n",
    "\n",
    "    for val in arr:\n",
    "        if val % 2 == 0:\n",
    "            even_list.append(val)\n",
    "        else:\n",
    "            odd_list.append(val)\n",
    "\n",
    "    if len(odd_list) == 0 or len(even_list) == 0:\n",
    "        return 0\n",
    "\n",
    "\n",
    "    def find_help(n, ol,el):\n",
    "        global total_number\n",
    "        total_number = max(total_number, n)\n",
    "        for i in range(len(ol)):\n",
    "            for j in range(len(el)):\n",
    "                _sum = ol[i] + el[j]\n",
    "                if is_prime(_sum):\n",
    "                    find_help(n+1, ol[0:i] + ol[i+1:], el[0:j] + ol[j+1:])\n",
    "\n",
    "\n",
    "    find_help(0, odd_list, even_list)\n",
    "    return total_number\n",
    "\n",
    "find_company([2,5,6,13])"
   ]
  },
  {
   "cell_type": "code",
   "execution_count": 202,
   "metadata": {},
   "outputs": [],
   "source": [
    "string =\"wyZksmG XY ReXA Pedt mabjlFdGmJUseHz GzciYPmv OFKis SQzQAeQexsgy ZVrsqqSbHdQF AKPJECiP vOgIXvbuJTDnpPcCD GWlPWTGQSWyaZtxHd ydpT pHSeYKetXH RdBcHmggvESwIEWlBtYq H VdkLHvSGupDEFOfH BcWxbNOQOOYYhBNEz MAFjrzTFKWZOCGGZazCn Ef owSLRoGJXMWAR pLdQQWx ZSRXXCUOSetMNfSOnRk jDhskr WHBmEifhgEEBoT CJNtdFFM n UAbfJKuoVfoqAvbEcv MnDWh\" \n"
   ]
  },
  {
   "cell_type": "code",
   "execution_count": 203,
   "metadata": {},
   "outputs": [
    {
     "data": {
      "text/plain": [
       "'wyZksmG XY ReXA Pedt mabjlFdGmJUseHz GzciYPmv OFKis SQzQAeQexsgy ZVrsqqSbHdQF AKPJECiP vOgIXvbuJTDnpPcCD GWlPWTGQSWyaZtxHd ydpT pHSeYKetXH RdBcHmggvESwIEWlBtYq H VdkLHvSGupDEFOfH BcWxbNOQOOYYhBNEz MAFjrzTFKWZOCGGZazCn Ef owSLRoGJXMWAR pLdQQWx ZSRXXCUOSetMNfSOnRk jDhskr WHBmEifhgEEBoT CJNtdFFM n UAbfJKuoVfoqAvbEcv MnDWh'"
      ]
     },
     "execution_count": 203,
     "metadata": {},
     "output_type": "execute_result"
    }
   ],
   "source": [
    "string\n"
   ]
  },
  {
   "cell_type": "code",
   "execution_count": 206,
   "metadata": {},
   "outputs": [
    {
     "name": "stdout",
     "output_type": "stream",
     "text": [
      "\n"
     ]
    },
    {
     "data": {
      "text/plain": [
       "[]"
      ]
     },
     "execution_count": 206,
     "metadata": {},
     "output_type": "execute_result"
    }
   ],
   "source": [
    "def reverse_words(string):\n",
    "    letter = 'abcdefghijklmnopqrstuvwxyz'\n",
    "    letter_str = letter + letter.upper()\n",
    "\n",
    "    s = ''\n",
    "    for i in range(len(string)):\n",
    "        c = string[i]\n",
    "        if c in letter_str:\n",
    "            s += c\n",
    "        else:\n",
    "            if len(s) > 0 and s[-1] == ' ':\n",
    "                continue\n",
    "            else:\n",
    "                s += ' '\n",
    "    \n",
    "    return s.split()[::-1]"
   ]
  },
  {
   "cell_type": "code",
   "execution_count": 210,
   "metadata": {},
   "outputs": [
    {
     "name": "stdout",
     "output_type": "stream",
     "text": [
      "1 4\n"
     ]
    },
    {
     "data": {
      "text/plain": [
       "1"
      ]
     },
     "execution_count": 210,
     "metadata": {},
     "output_type": "execute_result"
    }
   ],
   "source": [
    "string = \"51233214\"\n",
    "\n",
    "\n",
    "\n",
    "def longest_palindrome(string):\n",
    "    max_len = 0\n",
    "    for i in range(0, len(string)):\n",
    "        # remove from left\n",
    "        if string[i] == string[-1]:\n",
    "            sub_str = string[i:]\n",
    "            if is_palindrome(sub_str):\n",
    "                print(1, sub_str)\n",
    "                return len(sub_str)\n",
    "        # remove from right\n",
    "        \n",
    "        if string[0] == string[len(string) - 1 - i]:\n",
    "            sub_str = string[0:len(string) - 1 - i + 1]\n",
    "            if is_palindrome(sub_str):\n",
    "                print(2, sub_str)\n",
    "                return len(sub_str)\n",
    "    return 0\n",
    "longest_palindrome(string)"
   ]
  },
  {
   "cell_type": "code",
   "execution_count": 222,
   "metadata": {},
   "outputs": [
    {
     "name": "stdout",
     "output_type": "stream",
     "text": [
      "_5_1_2_3_3_2_1_4_\n",
      "2 | _\n",
      "3 | _1_\n"
     ]
    },
    {
     "data": {
      "text/plain": [
       "3"
      ]
     },
     "execution_count": 222,
     "metadata": {},
     "output_type": "execute_result"
    }
   ],
   "source": [
    "string = \"51233214\"\n",
    "\n",
    "max_length = 1\n",
    "def is_palindrome(string):\n",
    "    if string == string[::-1]:\n",
    "        return True\n",
    "    return False\n",
    "    \n",
    "def max_by_center(string, i):\n",
    "    global max_length\n",
    "    _max_len = min(i, len(string) - i)\n",
    "    for l in range(0, _max_len):\n",
    "        sub_string = string[i-l: i+l+1]\n",
    "        if is_palindrome(sub_string):\n",
    "            if max_length < len(sub_string.replace('_','')):\n",
    "                max_length = len(sub_string.replace('_',''))\n",
    "                print(max_length, '|' ,sub_string)\n",
    "\n",
    "def str_length(string):\n",
    "    len()\n",
    "    \n",
    "def longest_palindrome(string):\n",
    "    new_string = '_' + '_'.join(list(string)) + '_'\n",
    "    print(new_string)\n",
    "    for i in range(0, len(string)):\n",
    "        max_by_center(new_string, i)\n",
    "    return max_length\n",
    "longest_palindrome(string)"
   ]
  },
  {
   "cell_type": "code",
   "execution_count": 216,
   "metadata": {},
   "outputs": [
    {
     "data": {
      "text/plain": [
       "True"
      ]
     },
     "execution_count": 216,
     "metadata": {},
     "output_type": "execute_result"
    }
   ],
   "source": [
    "is_palindrome(\"1_2_3_3_2_1\")"
   ]
  },
  {
   "cell_type": "code",
   "execution_count": 224,
   "metadata": {},
   "outputs": [
    {
     "data": {
      "text/plain": [
       "['', '1', '']"
      ]
     },
     "execution_count": 224,
     "metadata": {},
     "output_type": "execute_result"
    }
   ],
   "source": [
    "'_1_'.split('_')"
   ]
  },
  {
   "cell_type": "code",
   "execution_count": null,
   "metadata": {},
   "outputs": [],
   "source": []
  }
 ],
 "metadata": {
  "kernelspec": {
   "display_name": "Python 3",
   "language": "python",
   "name": "python3"
  },
  "language_info": {
   "codemirror_mode": {
    "name": "ipython",
    "version": 3
   },
   "file_extension": ".py",
   "mimetype": "text/x-python",
   "name": "python",
   "nbconvert_exporter": "python",
   "pygments_lexer": "ipython3",
   "version": "3.5.6"
  }
 },
 "nbformat": 4,
 "nbformat_minor": 2
}
